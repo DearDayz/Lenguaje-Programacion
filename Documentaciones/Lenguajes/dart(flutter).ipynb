{
 "cells": [
  {
   "cell_type": "markdown",
   "metadata": {},
   "source": [
    "# Guía básica de Dart y Flutter 📝🚀\n",
    "\n",
    "Bienvenido a esta guía práctica para comenzar con **Dart** y **Flutter**. Aprenderás desde la instalación, la sintaxis básica de Dart y sus conceptos fundamentales, hasta los aspectos esenciales de Flutter para desarrollar tus primeras aplicaciones móviles.\n",
    "\n",
    "---\n",
    "\n",
    "# 📦 Instalación de Dart y Flutter\n",
    "\n",
    "## Requisitos previos:\n",
    "- Git instalado ([descargar aquí](https://git-scm.com/))\n",
    "- Espacio en disco de al menos 2.8 GB (sin contar dependencias)\n",
    "\n",
    "## Instalación de Flutter:\n",
    "1. Clona el repositorio oficial de Flutter:\n",
    "\n",
    "```bash\n",
    "git clone https://github.com/flutter/flutter.git -b stable\n",
    "```\n",
    "\n",
    "2. Agrega Flutter al PATH:\n",
    "- En Linux/macOS:\n",
    "\n",
    "```bash\n",
    "export PATH=\"$PATH:`pwd`/flutter/bin\"\n",
    "```\n",
    "\n",
    "- En Windows:\n",
    "Agrega la ruta `flutter\\bin` en las variables de entorno.\n",
    "\n",
    "3. Verifica la instalación:\n",
    "\n",
    "```bash\n",
    "flutter doctor\n",
    "```\n",
    "\n",
    "Esto mostrará el estado de la instalación y sugerencias para corregir posibles problemas.\n",
    "\n",
    "---"
   ]
  },
  {
   "cell_type": "markdown",
   "metadata": {},
   "source": [
    "# ✨ Sintaxis básica de Dart\n",
    "\n",
    "Antes de sumergirnos en Flutter, es fundamental comprender Dart, el lenguaje en el que se basa Flutter.\n",
    "\n",
    "## Hola Mundo en Dart"
   ]
  },
  {
   "cell_type": "code",
   "execution_count": null,
   "metadata": {
    "vscode": {
     "languageId": "plaintext"
    }
   },
   "outputs": [],
   "source": [
    "void main() {\n",
    "  print('¡Hola, mundo! 👋');\n",
    "}"
   ]
  },
  {
   "cell_type": "markdown",
   "metadata": {},
   "source": [
    "Guarda el código en `hola.dart` y ejecútalo con:\n",
    "\n",
    "```bash\n",
    "dart hola.dart\n",
    "```\n",
    "\n",
    "---"
   ]
  },
  {
   "cell_type": "markdown",
   "metadata": {},
   "source": [
    "## Variables y tipos de datos\n",
    "\n",
    "Dart es un lenguaje de tipado estático, pero permite inferencia de tipos:"
   ]
  },
  {
   "cell_type": "code",
   "execution_count": null,
   "metadata": {
    "vscode": {
     "languageId": "plaintext"
    }
   },
   "outputs": [],
   "source": [
    "void main() {\n",
    "  var nombre = 'Ana'; // Inferencia de tipo String\n",
    "  int edad = 25;\n",
    "  double altura = 1.68;\n",
    "  bool esEstudiante = true;\n",
    "\n",
    "  print('Nombre: $nombre, Edad: $edad, Altura: $altura, Estudiante: $esEstudiante');\n",
    "}"
   ]
  },
  {
   "cell_type": "markdown",
   "metadata": {},
   "source": [
    "## Funciones"
   ]
  },
  {
   "cell_type": "code",
   "execution_count": null,
   "metadata": {
    "vscode": {
     "languageId": "plaintext"
    }
   },
   "outputs": [],
   "source": [
    "int sumar(int a, int b) {\n",
    "  return a + b;\n",
    "}\n",
    "\n",
    "void main() {\n",
    "  print('La suma es: ${sumar(3, 4)}');\n",
    "}"
   ]
  },
  {
   "cell_type": "markdown",
   "metadata": {},
   "source": [
    "También puedes usar funciones de flecha para expresiones cortas:"
   ]
  },
  {
   "cell_type": "code",
   "execution_count": null,
   "metadata": {
    "vscode": {
     "languageId": "plaintext"
    }
   },
   "outputs": [],
   "source": [
    "int multiplicar(int a, int b) => a * b;"
   ]
  },
  {
   "cell_type": "markdown",
   "metadata": {},
   "source": [
    "## Estructuras de control\n",
    "\n",
    "### Condicionales:"
   ]
  },
  {
   "cell_type": "code",
   "execution_count": null,
   "metadata": {
    "vscode": {
     "languageId": "plaintext"
    }
   },
   "outputs": [],
   "source": [
    "void main() {\n",
    "  int edad = 20;\n",
    "\n",
    "  if (edad >= 18) {\n",
    "    print('Eres mayor de edad.');\n",
    "  } else {\n",
    "    print('Eres menor de edad.');\n",
    "  }\n",
    "}"
   ]
  },
  {
   "cell_type": "markdown",
   "metadata": {},
   "source": [
    "### Bucles:"
   ]
  },
  {
   "cell_type": "code",
   "execution_count": null,
   "metadata": {
    "vscode": {
     "languageId": "plaintext"
    }
   },
   "outputs": [],
   "source": [
    "void main() {\n",
    "  for (int i = 1; i <= 5; i++) {\n",
    "    print('Número: $i');\n",
    "  }\n",
    "}"
   ]
  },
  {
   "cell_type": "markdown",
   "metadata": {},
   "source": [
    "## Clases y objetos"
   ]
  },
  {
   "cell_type": "code",
   "execution_count": null,
   "metadata": {
    "vscode": {
     "languageId": "plaintext"
    }
   },
   "outputs": [],
   "source": [
    "class Persona {\n",
    "  String nombre;\n",
    "  int edad;\n",
    "\n",
    "  Persona(this.nombre, this.edad);\n",
    "\n",
    "  void saludar() {\n",
    "    print('¡Hola! Soy $nombre y tengo $edad años.');\n",
    "  }\n",
    "}\n",
    "\n",
    "void main() {\n",
    "  var persona = Persona('Carlos', 30);\n",
    "  persona.saludar();\n",
    "}"
   ]
  },
  {
   "cell_type": "markdown",
   "metadata": {},
   "source": [
    "# 📱 Aspectos básicos de Flutter\n",
    "\n",
    "Una vez comprendida la sintaxis de Dart, pasamos a Flutter, el framework para crear interfaces nativas.\n",
    "\n",
    "## Creación de un nuevo proyecto Flutter\n",
    "\n",
    "```bash\n",
    "flutter create mi_primera_app\n",
    "cd mi_primera_app\n",
    "flutter run\n",
    "```\n",
    "\n",
    "Esto abrirá la aplicación predeterminada de Flutter en tu emulador o dispositivo físico.\n",
    "\n",
    "---\n",
    "\n",
    "## Estructura de carpetas en un proyecto Flutter\n",
    "\n",
    "- `lib/main.dart`: Código principal.\n",
    "- `pubspec.yaml`: Configuración de dependencias.\n",
    "- `android/`, `ios/`, `web/`: Archivos específicos para cada plataforma.\n",
    "\n",
    "---\n",
    "\n",
    "## Modificando la app principal\n",
    "\n",
    "Edita `lib/main.dart` con lo siguiente:"
   ]
  },
  {
   "cell_type": "code",
   "execution_count": null,
   "metadata": {
    "vscode": {
     "languageId": "plaintext"
    }
   },
   "outputs": [],
   "source": [
    "import 'package:flutter/material.dart';\n",
    "\n",
    "void main() => runApp(const MyApp());\n",
    "\n",
    "class MyApp extends StatelessWidget {\n",
    "  const MyApp({super.key});\n",
    "\n",
    "  @override\n",
    "  Widget build(BuildContext context) {\n",
    "    return MaterialApp(\n",
    "      title: 'Hola Flutter 🌟',\n",
    "      home: Scaffold(\n",
    "        appBar: AppBar(title: const Text('Mi Primera App Flutter')),\n",
    "        body: const Center(\n",
    "          child: Text(\n",
    "            '¡Hola, Flutter! 🚀',\n",
    "            style: TextStyle(fontSize: 24),\n",
    "          ),\n",
    "        ),\n",
    "      ),\n",
    "    );\n",
    "  }\n",
    "}"
   ]
  },
  {
   "cell_type": "markdown",
   "metadata": {},
   "source": [
    "Guarda y ejecuta:\n",
    "\n",
    "```bash\n",
    "flutter run\n",
    "```\n",
    "\n",
    "Verás el texto **¡Hola, Flutter! 🚀** en la pantalla.\n",
    "\n",
    "---\n"
   ]
  },
  {
   "cell_type": "markdown",
   "metadata": {},
   "source": [
    "## Widgets básicos en Flutter\n",
    "\n",
    "### Texto y Botones:"
   ]
  },
  {
   "cell_type": "code",
   "execution_count": null,
   "metadata": {
    "vscode": {
     "languageId": "plaintext"
    }
   },
   "outputs": [],
   "source": [
    "body: Center(\n",
    "  child: Column(\n",
    "    mainAxisAlignment: MainAxisAlignment.center,\n",
    "    children: [\n",
    "      const Text('Bienvenido a Flutter! 🎉', style: TextStyle(fontSize: 22)),\n",
    "      ElevatedButton(\n",
    "        onPressed: () => print('Botón presionado'),\n",
    "        child: const Text('Presióname'),\n",
    "      ),\n",
    "    ],\n",
    "  ),\n",
    "),"
   ]
  },
  {
   "cell_type": "markdown",
   "metadata": {},
   "source": [
    "## Navegación entre pantallas"
   ]
  },
  {
   "cell_type": "code",
   "execution_count": null,
   "metadata": {
    "vscode": {
     "languageId": "plaintext"
    }
   },
   "outputs": [],
   "source": [
    "import 'package:flutter/material.dart';\n",
    "\n",
    "void main() => runApp(const MyApp());\n",
    "\n",
    "class MyApp extends StatelessWidget {\n",
    "  const MyApp({super.key});\n",
    "\n",
    "  @override\n",
    "  Widget build(BuildContext context) {\n",
    "    return MaterialApp(\n",
    "      home: const PrimeraPantalla(),\n",
    "    );\n",
    "  }\n",
    "}\n",
    "\n",
    "class PrimeraPantalla extends StatelessWidget {\n",
    "  const PrimeraPantalla({super.key});\n",
    "\n",
    "  @override\n",
    "  Widget build(BuildContext context) {\n",
    "    return Scaffold(\n",
    "      appBar: AppBar(title: const Text('Pantalla 1')),\n",
    "      body: Center(\n",
    "        child: ElevatedButton(\n",
    "          onPressed: () => Navigator.push(\n",
    "            context,\n",
    "            MaterialPageRoute(builder: (context) => const SegundaPantalla()),\n",
    "          ),\n",
    "          child: const Text('Ir a la Pantalla 2 ➡️'),\n",
    "        ),\n",
    "      ),\n",
    "    );\n",
    "  }\n",
    "}\n",
    "\n",
    "class SegundaPantalla extends StatelessWidget {\n",
    "  const SegundaPantalla({super.key});\n",
    "\n",
    "  @override\n",
    "  Widget build(BuildContext context) {\n",
    "    return Scaffold(\n",
    "      appBar: AppBar(title: const Text('Pantalla 2')),\n",
    "      body: Center(\n",
    "        child: ElevatedButton(\n",
    "          onPressed: () => Navigator.pop(context),\n",
    "          child: const Text('Volver ⬅️'),\n",
    "        ),\n",
    "      ),\n",
    "    );\n",
    "  }\n",
    "}"
   ]
  },
  {
   "cell_type": "markdown",
   "metadata": {},
   "source": [
    "Presiona el botón \"Ir a la Pantalla 2 ➡️\" para navegar y \"Volver ⬅️\" para regresar."
   ]
  }
 ],
 "metadata": {
  "language_info": {
   "name": "python"
  }
 },
 "nbformat": 4,
 "nbformat_minor": 2
}
