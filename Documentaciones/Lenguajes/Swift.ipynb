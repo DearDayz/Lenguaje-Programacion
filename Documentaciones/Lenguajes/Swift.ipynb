{
 "cells": [
  {
   "cell_type": "markdown",
   "metadata": {},
   "source": [
    "<h1><strong>Documentación de Swift</strong></h1>\n",
    "\n",
    "<h3><strong>Introducción</strong></h3>\n",
    "\n",
    "Swift es un lenguaje de programación desarrollado por Apple para el desarrollo de aplicaciones en iOS, macOS, watchOS y tvOS. Es un lenguaje moderno, seguro y de alto rendimiento, diseñado para ser fácil de leer y escribir.\n",
    "\n",
    "<h3><strong>Características Principales</strong></h3>\n",
    "\n",
    "Seguro: Manejo seguro de memoria, comprobación de tipos y manejo de errores integrado.\n",
    "\n",
    "Rápido: Diseñado para rendimiento y optimización.\n",
    "\n",
    "Interactivo: Soporte para \"Playgrounds\" que permiten probar código en tiempo real.\n",
    "\n",
    "Orientado a Objetos y Funcional: Soporta paradigmas de programación estructurada, orientada a objetos y funcional.\n",
    "\n",
    "Sintaxis Clara y Concisa: Reduce la cantidad de código necesario comparado con Objective-C."
   ]
  },
  {
   "cell_type": "markdown",
   "metadata": {},
   "source": [
    "<h3><strong>Sintaxis Básica</strong></h3>\n",
    "\n",
    "Variables y Constantes"
   ]
  },
  {
   "cell_type": "code",
   "execution_count": null,
   "metadata": {
    "vscode": {
     "languageId": "swift"
    }
   },
   "outputs": [],
   "source": [
    "var nombre = \"Cristian\" // Variable mutable\n",
    "let edad = 19 // Constante inmutable"
   ]
  },
  {
   "cell_type": "markdown",
   "metadata": {},
   "source": [
    "<h3><strong>Tipos de Datos</strong></h3>\n",
    "\n",
    "Swift soporta varios tipos de datos:"
   ]
  },
  {
   "cell_type": "code",
   "execution_count": null,
   "metadata": {
    "vscode": {
     "languageId": "swift"
    }
   },
   "outputs": [],
   "source": [
    "let entero: Int = 10\n",
    "let decimal: Double = 3.14\n",
    "let texto: String = \"Hola, Swift\"\n",
    "let booleano: Bool = true"
   ]
  },
  {
   "cell_type": "markdown",
   "metadata": {},
   "source": [
    "Operadores"
   ]
  },
  {
   "cell_type": "code",
   "execution_count": null,
   "metadata": {
    "vscode": {
     "languageId": "swift"
    }
   },
   "outputs": [],
   "source": [
    "let suma = 5 + 3\n",
    "let resta = 10 - 2\n",
    "let multiplicacion = 4 * 2\n",
    "let division = 8 / 2\n",
    "let modulo = 9 % 2"
   ]
  },
  {
   "cell_type": "markdown",
   "metadata": {},
   "source": [
    "Condicionales"
   ]
  },
  {
   "cell_type": "code",
   "execution_count": null,
   "metadata": {
    "vscode": {
     "languageId": "swift"
    }
   },
   "outputs": [],
   "source": [
    "let edad = 18\n",
    "if edad >= 18 {\n",
    "    print(\"Eres mayor de edad\")\n",
    "} else {\n",
    "    print(\"Eres menor de edad\")\n",
    "}"
   ]
  },
  {
   "cell_type": "markdown",
   "metadata": {},
   "source": [
    "Switch"
   ]
  },
  {
   "cell_type": "code",
   "execution_count": null,
   "metadata": {
    "vscode": {
     "languageId": "swift"
    }
   },
   "outputs": [],
   "source": [
    "let dia = \"Lunes\"\n",
    "switch dia {\n",
    "case \"Lunes\":\n",
    "    print(\"Inicio de semana\")\n",
    "case \"Viernes\":\n",
    "    print(\"Fin de semana cerca\")\n",
    "default:\n",
    "    print(\"Día normal\")\n",
    "}"
   ]
  },
  {
   "cell_type": "markdown",
   "metadata": {},
   "source": [
    "Bucles"
   ]
  },
  {
   "cell_type": "code",
   "execution_count": null,
   "metadata": {
    "vscode": {
     "languageId": "swift"
    }
   },
   "outputs": [],
   "source": [
    "for i in 1...5 {\n",
    "    print(i)\n",
    "}\n",
    "\n",
    "var contador = 0\n",
    "while contador < 5 {\n",
    "    print(contador)\n",
    "    contador += 1\n",
    "}"
   ]
  },
  {
   "cell_type": "markdown",
   "metadata": {},
   "source": [
    "Funciones"
   ]
  },
  {
   "cell_type": "code",
   "execution_count": null,
   "metadata": {
    "vscode": {
     "languageId": "swift"
    }
   },
   "outputs": [],
   "source": [
    "func saludar(nombre: String) -> String {\n",
    "    return \"Hola, \\(nombre)!\"\n",
    "}\n",
    "\n",
    "let mensaje = saludar(nombre: \"Pedro\")\n",
    "print(mensaje)"
   ]
  },
  {
   "cell_type": "markdown",
   "metadata": {},
   "source": [
    "Clases y Objetos"
   ]
  },
  {
   "cell_type": "code",
   "execution_count": null,
   "metadata": {
    "vscode": {
     "languageId": "swift"
    }
   },
   "outputs": [],
   "source": [
    "class Persona {\n",
    "    var nombre: String\n",
    "    var edad: Int\n",
    "    \n",
    "    init(nombre: String, edad: Int) {\n",
    "        self.nombre = nombre\n",
    "        self.edad = edad\n",
    "    }\n",
    "    \n",
    "    func descripcion() -> String {\n",
    "        return \"\\(nombre) tiene \\(edad) años.\"\n",
    "    }\n",
    "}\n",
    "\n",
    "let persona1 = Persona(nombre: \"Ana\", edad: 30)\n",
    "print(persona1.descripcion())"
   ]
  },
  {
   "cell_type": "markdown",
   "metadata": {},
   "source": [
    "<h3><strong>Conclusión</strong></h3>\n",
    "\n",
    "Swift es un lenguaje potente y versátil, ideal para el desarrollo de aplicaciones en el ecosistema de Apple de lo contrario tu maquina va a explotar :P. "
   ]
  }
 ],
 "metadata": {
  "kernelspec": {
   "display_name": "Julia 1.10.3",
   "language": "julia",
   "name": "julia-1.10"
  },
  "language_info": {
   "file_extension": ".jl",
   "mimetype": "application/julia",
   "name": "julia",
   "version": "1.10.3"
  }
 },
 "nbformat": 4,
 "nbformat_minor": 2
}
