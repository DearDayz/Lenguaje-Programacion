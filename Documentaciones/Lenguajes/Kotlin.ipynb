{
 "cells": [
  {
   "cell_type": "markdown",
   "metadata": {},
   "source": [
    "<img src=\"../img/kotlinlang_logo_icon_170356.png\" alt=\"rustup crab image\" >\n",
    "\n",
    "## Introducción a Kotlin\n",
    "\n",
    "### ¿Qué es Kotlin?\n",
    "Kotlin es un lenguaje de programación moderno, conciso y seguro desarrollado por JetBrains. Es un lenguaje de propósito general con un fuerte enfoque en la interoperabilidad con Java.\n",
    "\n",
    "### Historia y evolución\n",
    "- Kotlin fue anunciado en 2011 por JetBrains.\n",
    "- En 2016, se lanzó la versión 1.0.\n",
    "- En 2017, Google lo adoptó como un lenguaje oficial para el desarrollo de Android.\n",
    "- Actualmente, se usa en diversas aplicaciones backend, frontend y multiplataforma.\n",
    "\n",
    "### Ventajas y características principales\n",
    "- **Interoperabilidad con Java**\n",
    "- **Sintaxis concisa y expresiva**\n",
    "- **Soporte para programación funcional y orientada a objetos**\n",
    "- **Manejo seguro de nulabilidad**\n",
    "- **Compilación rápida y eficiente**\n",
    "\n",
    "### Comparación con Java\n",
    "| Característica | Kotlin | Java |\n",
    "|--------------|--------|------|\n",
    "| Sintaxis | Concisa | Verbosa |\n",
    "| Seguridad | Manejo de null seguro | NullPointerException frecuente |\n",
    "| Funciones de orden superior | Sí | No |\n",
    "| Interoperabilidad | Total con Java | No aplica |\n",
    "\n",
    "## Instalación y Configuración\n",
    "\n",
    "### Instalación en diferentes sistemas operativos\n",
    "- **Windows:** Descargar e instalar el JDK de Kotlin desde la página oficial.\n",
    "- **Mac:** Usar `brew install kotlin`.\n",
    "- **Linux:** Usar `sdk install kotlin`.\n",
    "\n",
    "### Uso de Kotlin en IDEs\n",
    "- **IntelliJ IDEA:** Soporte nativo.\n",
    "- **Android Studio:** Configuración predeterminada.\n",
    "- **VS Code:** Mediante la extensión Kotlin.\n",
    "\n",
    "### Configuración en proyectos Gradle y Maven\n",
    "- **Gradle:**\n",
    "  ```gradle\n",
    "  plugins {\n",
    "      id 'org.jetbrains.kotlin.jvm' version '1.8.0'\n",
    "  }\n",
    "  ```\n",
    "- **Maven:**\n",
    "  ```xml\n",
    "  <dependency>\n",
    "      <groupId>org.jetbrains.kotlin</groupId>\n",
    "      <artifactId>kotlin-stdlib</artifactId>\n",
    "      <version>1.8.0</version>\n",
    "  </dependency>\n",
    "  ```\n",
    "\n",
    "## Sintaxis Básica\n",
    "\n",
    "### Variables y tipos de datos"
   ]
  },
  {
   "cell_type": "code",
   "execution_count": null,
   "metadata": {
    "vscode": {
     "languageId": "plaintext"
    }
   },
   "outputs": [],
   "source": [
    "val nombre: String = \"Kotlin\"\n",
    "var edad: Int = 25\n",
    "\n",
    "println(nombre)\n",
    "println(edad)"
   ]
  },
  {
   "cell_type": "markdown",
   "metadata": {},
   "source": [
    "\n",
    "### Operadores y expresiones"
   ]
  },
  {
   "cell_type": "code",
   "execution_count": null,
   "metadata": {
    "vscode": {
     "languageId": "plaintext"
    }
   },
   "outputs": [],
   "source": [
    "val suma = 5 + 3\n",
    "val resultado = if (suma > 5) \"Mayor\" else \"Menor\"\n",
    "\n",
    "println(suma)\n",
    "println(resultado)"
   ]
  },
  {
   "cell_type": "markdown",
   "metadata": {},
   "source": [
    "\n",
    "### Estructuras de control"
   ]
  },
  {
   "cell_type": "code",
   "execution_count": null,
   "metadata": {
    "vscode": {
     "languageId": "plaintext"
    }
   },
   "outputs": [],
   "source": [
    "if (edad > 18) {\n",
    "    println(\"Mayor de edad\")\n",
    "} else {\n",
    "    println(\"Menor de edad\")\n",
    "}"
   ]
  },
  {
   "cell_type": "markdown",
   "metadata": {},
   "source": [
    "\n",
    "### Funciones y lambdas\n"
   ]
  },
  {
   "cell_type": "code",
   "execution_count": null,
   "metadata": {
    "vscode": {
     "languageId": "plaintext"
    }
   },
   "outputs": [],
   "source": [
    "fun suma(a: Int, b: Int): Int = a + b\n",
    "val multiplicar: (Int, Int) -> Int = { x, y -> x * y }\n",
    "\n",
    "println(suma(1,2))\n",
    "println(multiplicar(3,3))"
   ]
  },
  {
   "cell_type": "markdown",
   "metadata": {},
   "source": [
    "\n",
    "## Programación Orientada a Objetos en Kotlin\n",
    "\n",
    "### Clases y objetos\n"
   ]
  },
  {
   "cell_type": "code",
   "execution_count": null,
   "metadata": {
    "vscode": {
     "languageId": "plaintext"
    }
   },
   "outputs": [],
   "source": [
    "class Persona(val nombre: String, val edad: Int)\n",
    "val persona = Persona(\"Juan\", 30)\n",
    "\n",
    "println(persona.nombre)\n",
    "println(persona.edad)"
   ]
  },
  {
   "cell_type": "markdown",
   "metadata": {},
   "source": [
    "\n",
    "### Herencia y polimorfismo"
   ]
  },
  {
   "cell_type": "code",
   "execution_count": null,
   "metadata": {
    "vscode": {
     "languageId": "plaintext"
    }
   },
   "outputs": [],
   "source": [
    "open class Animal {\n",
    "    open fun sonido() = \"Hace un sonido\"\n",
    "}\n",
    "class Perro : Animal() {\n",
    "    override fun sonido() = \"Ladra\"\n",
    "}"
   ]
  },
  {
   "cell_type": "markdown",
   "metadata": {},
   "source": [
    "### Modificadores de acceso\n",
    "- `private`, `protected`, `internal`, `public`\n",
    "\n",
    "### Data classes y sealed classes"
   ]
  },
  {
   "cell_type": "code",
   "execution_count": null,
   "metadata": {
    "vscode": {
     "languageId": "plaintext"
    }
   },
   "outputs": [],
   "source": [
    "data class Usuario(val id: Int, val nombre: String)"
   ]
  },
  {
   "cell_type": "markdown",
   "metadata": {},
   "source": [
    "## Funciones y Programación Funcional\n",
    "\n",
    "### Funciones de orden superior"
   ]
  },
  {
   "cell_type": "code",
   "execution_count": null,
   "metadata": {
    "vscode": {
     "languageId": "plaintext"
    }
   },
   "outputs": [],
   "source": [
    "fun operar(a: Int, b: Int, operacion: (Int, Int) -> Int): Int {\n",
    "    return operacion(a, b)\n",
    "}"
   ]
  },
  {
   "cell_type": "markdown",
   "metadata": {},
   "source": [
    "### Expresiones lambda"
   ]
  },
  {
   "cell_type": "code",
   "execution_count": null,
   "metadata": {
    "vscode": {
     "languageId": "plaintext"
    }
   },
   "outputs": [],
   "source": [
    "val cuadrado: (Int) -> Int = { it * it }"
   ]
  },
  {
   "cell_type": "markdown",
   "metadata": {},
   "source": [
    "## Manejo de Colecciones y Datos\n",
    "\n",
    "### Listas, conjuntos y mapas"
   ]
  },
  {
   "cell_type": "code",
   "execution_count": null,
   "metadata": {
    "vscode": {
     "languageId": "plaintext"
    }
   },
   "outputs": [],
   "source": [
    "val lista = listOf(1, 2, 3)\n",
    "val mapa = mapOf(\"clave\" to \"valor\")"
   ]
  },
  {
   "cell_type": "markdown",
   "metadata": {},
   "source": [
    "### Operaciones avanzadas con colecciones"
   ]
  },
  {
   "cell_type": "code",
   "execution_count": null,
   "metadata": {
    "vscode": {
     "languageId": "plaintext"
    }
   },
   "outputs": [],
   "source": [
    "val filtrados = lista.filter { it > 1 }"
   ]
  },
  {
   "cell_type": "markdown",
   "metadata": {},
   "source": [
    "## Manejo de Excepciones y Seguridad"
   ]
  },
  {
   "cell_type": "code",
   "execution_count": null,
   "metadata": {
    "vscode": {
     "languageId": "plaintext"
    }
   },
   "outputs": [],
   "source": [
    "try {\n",
    "    val numero = \"abc\".toInt()\n",
    "} catch (e: NumberFormatException) {\n",
    "    println(\"Error de formato\")\n",
    "}"
   ]
  },
  {
   "cell_type": "markdown",
   "metadata": {},
   "source": [
    "## Corrutinas y Programación Asíncrona"
   ]
  },
  {
   "cell_type": "code",
   "execution_count": null,
   "metadata": {
    "vscode": {
     "languageId": "plaintext"
    }
   },
   "outputs": [],
   "source": [
    "import kotlinx.coroutines.*\n",
    "\n",
    "fun main() = runBlocking {\n",
    "    launch {\n",
    "        delay(1000L)\n",
    "        println(\"Mundo\")\n",
    "    }\n",
    "    println(\"Hola\")\n",
    "}"
   ]
  },
  {
   "cell_type": "markdown",
   "metadata": {},
   "source": [
    "## Interoperabilidad con Java"
   ]
  },
  {
   "cell_type": "code",
   "execution_count": null,
   "metadata": {
    "vscode": {
     "languageId": "plaintext"
    }
   },
   "outputs": [],
   "source": [
    "@JvmOverloads\n",
    "fun saludo(nombre: String = \"Mundo\") {\n",
    "    println(\"Hola, $nombre\")\n",
    "}"
   ]
  },
  {
   "cell_type": "markdown",
   "metadata": {},
   "source": [
    "## Kotlin para Desarrollo Android\n",
    "\n",
    "### Uso en Android\n",
    "- Kotlin es el lenguaje recomendado para Android.\n",
    "\n",
    "### Android Jetpack y Kotlin\n",
    "- Uso con ViewModel, LiveData y Room.\n",
    "\n",
    "### Coroutines en Android"
   ]
  },
  {
   "cell_type": "code",
   "execution_count": null,
   "metadata": {
    "vscode": {
     "languageId": "plaintext"
    }
   },
   "outputs": [],
   "source": [
    "viewModelScope.launch {\n",
    "    val datos = obtenerDatos()\n",
    "}"
   ]
  },
  {
   "cell_type": "markdown",
   "metadata": {},
   "source": [
    "\n",
    "## Buenas Prácticas y Patrones de Diseño\n",
    "- **Uso de `val` sobre `var` cuando sea posible.**\n",
    "- **Evitar el uso de `!!`.**\n",
    "- **Seguir el principio SOLID.**\n",
    "\n",
    "## Ejercicios y Casos Prácticos\n",
    "\n",
    "### Mini proyecto: Calculadora básica"
   ]
  },
  {
   "cell_type": "code",
   "execution_count": null,
   "metadata": {
    "vscode": {
     "languageId": "plaintext"
    }
   },
   "outputs": [],
   "source": [
    "fun main() {\n",
    "    println(\"Ingrese dos números: \")\n",
    "    val a = readLine()?.toIntOrNull() ?: 0\n",
    "    val b = readLine()?.toIntOrNull() ?: 0\n",
    "    println(\"Suma: ${a + b}\")\n",
    "}"
   ]
  }
 ],
 "metadata": {
  "language_info": {
   "name": "python"
  }
 },
 "nbformat": 4,
 "nbformat_minor": 2
}
