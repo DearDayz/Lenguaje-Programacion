{
 "cells": [
  {
   "cell_type": "markdown",
   "metadata": {},
   "source": [
    "<h1><strong>Documentación de Java Spring Boot para Principiantes</strong></h1>\n",
    "\n",
    "<h3><strong>1. Introducción a Spring Boot</strong></h3>\n",
    "\n",
    "Spring Boot es un framework de Java basado en Spring Framework que simplifica el desarrollo de aplicaciones web y servicios REST. Proporciona una configuración automática y un conjunto de herramientas que facilitan la creación de aplicaciones listas para ejecutarse sin configuraciones complicadas.\n",
    "\n",
    "<strong>Características principales:</strong>\n",
    "\n",
    "Configuración automática (AutoConfiguration)\n",
    "\n",
    "Servidor embebido (Tomcat, Jetty, Undertow)\n",
    "\n",
    "Gestor de dependencias con Spring Boot Starters\n",
    "\n",
    "Desarrollo de microservicios\n",
    "\n",
    "Spring Boot Actuator (monitorización)"
   ]
  },
  {
   "cell_type": "markdown",
   "metadata": {},
   "source": [
    "<h2><strong>🔹 ¿Para qué se usa Spring Boot?</strong></h2>\n",
    "\n",
    "✅ Desarrollo de APIs RESTful\n",
    "\n",
    "✅ Aplicaciones de microservicios\n",
    "\n",
    "✅ Aplicaciones web con Spring MVC\n",
    "\n",
    "✅ Conexión con bases de datos (MySQL, PostgreSQL, MongoDB, etc.)\n",
    "\n",
    "✅ Integración con mensajería (Kafka, RabbitMQ)\n",
    "\n",
    "✅ Seguridad con Spring Security\n",
    "\n",
    "🔹 ¿Por qué usar Spring Boot?\n",
    "\n",
    "✔ Reduce la complejidad de configuración\n",
    "\n",
    "✔ Acelera el desarrollo\n",
    "\n",
    "✔ Escalable y modular\n",
    "\n",
    "✔ Gran comunidad y documentación"
   ]
  },
  {
   "cell_type": "markdown",
   "metadata": {},
   "source": [
    "<h3><strong>2. Instalación y Configuración</strong></h3>\n",
    "\n",
    "<strong>Requisitos:</strong>\n",
    "\n",
    "Java JDK 8 o superior\n",
    "\n",
    "Maven o Gradle\n",
    "\n",
    "IDE recomendado: IntelliJ IDEA, Eclipse o VS Code\n",
    "\n",
    "<strong>Crear un Proyecto Spring Boot</strong>\n",
    "\n",
    "Puedes generar un proyecto desde <a href=\"https://start.spring.io/\">Spring Initializr</a>:\n",
    "\n",
    "Selecciona Maven o Gradle como herramienta de construcción.\n",
    "\n",
    "Elige Java como lenguaje.\n",
    "\n",
    "Selecciona la versión de Spring Boot.\n",
    "\n",
    "Agrega dependencias como \"Spring Web\" si estás creando una API REST.\n",
    "\n",
    "Genera y descarga el proyecto."
   ]
  },
  {
   "cell_type": "markdown",
   "metadata": {},
   "source": [
    "<strong>3. Conceptos Básicos de la Sintaxis en Java Spring Boot</strong>\n",
    "\n",
    "Clase Principal de Spring Boot\n",
    "\n",
    "En un proyecto Spring Boot, la clase principal es el punto de entrada. Se anota con @SpringBootApplication."
   ]
  },
  {
   "cell_type": "code",
   "execution_count": null,
   "metadata": {
    "vscode": {
     "languageId": "java"
    }
   },
   "outputs": [],
   "source": [
    "import org.springframework.boot.SpringApplication;\n",
    "import org.springframework.boot.autoconfigure.SpringBootApplication;\n",
    "\n",
    "@SpringBootApplication\n",
    "public class MiAplicacion {\n",
    "    public static void main(String[] args) {\n",
    "        SpringApplication.run(MiAplicacion.class, args);\n",
    "    }\n",
    "}"
   ]
  },
  {
   "cell_type": "markdown",
   "metadata": {},
   "source": [
    "@SpringBootApplication: Marca la clase como una aplicación de Spring Boot y activa la configuración automática.\n",
    "\n",
    "SpringApplication.run(): Inicia la aplicación."
   ]
  },
  {
   "cell_type": "markdown",
   "metadata": {},
   "source": [
    "<strong>Creando un Controlador REST</strong>\n",
    "\n",
    "Un controlador maneja las solicitudes HTTP."
   ]
  },
  {
   "cell_type": "code",
   "execution_count": null,
   "metadata": {
    "vscode": {
     "languageId": "java"
    }
   },
   "outputs": [],
   "source": [
    "import org.springframework.web.bind.annotation.GetMapping;\n",
    "import org.springframework.web.bind.annotation.RequestMapping;\n",
    "import org.springframework.web.bind.annotation.RestController;\n",
    "\n",
    "@RestController\n",
    "@RequestMapping(\"/saludo\")\n",
    "public class SaludoController {\n",
    "    @GetMapping\n",
    "    public String holaMundo() {\n",
    "        return \"¡Hola, mundo desde Spring Boot!\";\n",
    "    }\n",
    "}"
   ]
  },
  {
   "cell_type": "markdown",
   "metadata": {},
   "source": [
    "@RestController: Indica que esta clase manejará solicitudes HTTP y devolverá respuestas JSON o de texto.\n",
    "\n",
    "@RequestMapping(\"/saludo\"): Define la ruta base del controlador.\n",
    "\n",
    "@GetMapping: Define una ruta HTTP GET que devuelve una cadena de texto."
   ]
  },
  {
   "cell_type": "markdown",
   "metadata": {},
   "source": [
    "<strong>Inyección de Dependencias con @Service</strong>\n",
    "\n",
    "Un servicio encapsula la lógica de negocio de la aplicación."
   ]
  },
  {
   "cell_type": "code",
   "execution_count": null,
   "metadata": {
    "vscode": {
     "languageId": "java"
    }
   },
   "outputs": [],
   "source": [
    "import org.springframework.stereotype.Service;\n",
    "\n",
    "@Service\n",
    "public class SaludoService {\n",
    "    public String obtenerSaludo() {\n",
    "        return \"¡Hola desde el servicio!\";\n",
    "    }\n",
    "}"
   ]
  },
  {
   "cell_type": "markdown",
   "metadata": {},
   "source": [
    "@Service: Marca la clase como un componente de servicio administrado por Spring."
   ]
  },
  {
   "cell_type": "markdown",
   "metadata": {},
   "source": [
    "<strong>Usando el Servicio en el Controlador</strong>"
   ]
  },
  {
   "cell_type": "code",
   "execution_count": null,
   "metadata": {
    "vscode": {
     "languageId": "java"
    }
   },
   "outputs": [],
   "source": [
    "import org.springframework.web.bind.annotation.GetMapping;\n",
    "import org.springframework.web.bind.annotation.RequestMapping;\n",
    "import org.springframework.web.bind.annotation.RestController;\n",
    "\n",
    "@RestController\n",
    "@RequestMapping(\"/saludo\")\n",
    "public class SaludoController {\n",
    "    private final SaludoService saludoService;\n",
    "\n",
    "    public SaludoController(SaludoService saludoService) {\n",
    "        this.saludoService = saludoService;\n",
    "    }\n",
    "\n",
    "    @GetMapping\n",
    "    public String holaMundo() {\n",
    "        return saludoService.obtenerSaludo();\n",
    "    }\n",
    "}"
   ]
  },
  {
   "cell_type": "markdown",
   "metadata": {},
   "source": [
    "Aquí usamos inyección de dependencias para obtener una instancia de SaludoService en SaludoController."
   ]
  },
  {
   "cell_type": "markdown",
   "metadata": {},
   "source": [
    "<strong>4. Configuraciones Básicas</strong>\n",
    "\n",
    "Spring Boot usa el archivo application.properties o application.yml para configuraciones. Ejemplo:"
   ]
  },
  {
   "cell_type": "code",
   "execution_count": null,
   "metadata": {
    "vscode": {
     "languageId": "java"
    }
   },
   "outputs": [],
   "source": [
    "server.port=8081  # Cambia el puerto del servidor\n",
    "spring.application.name=MiAppSpringBoot"
   ]
  },
  {
   "cell_type": "markdown",
   "metadata": {},
   "source": [
    "<strong>5. Conectando con una Base de Datos</strong>\n",
    "\n",
    "Si deseas conectar Spring Boot con una base de datos MySQL, agrega estas dependencias en pom.xml:"
   ]
  },
  {
   "cell_type": "code",
   "execution_count": null,
   "metadata": {
    "vscode": {
     "languageId": "java"
    }
   },
   "outputs": [],
   "source": [
    "<dependency>\n",
    "    <groupId>org.springframework.boot</groupId>\n",
    "    <artifactId>spring-boot-starter-data-jpa</artifactId>\n",
    "</dependency>\n",
    "<dependency>\n",
    "    <groupId>mysql</groupId>\n",
    "    <artifactId>mysql-connector-java</artifactId>\n",
    "    <scope>runtime</scope>\n",
    "</dependency>"
   ]
  },
  {
   "cell_type": "markdown",
   "metadata": {},
   "source": [
    "Luego, configura la conexión en application.properties:"
   ]
  },
  {
   "cell_type": "code",
   "execution_count": null,
   "metadata": {
    "vscode": {
     "languageId": "java"
    }
   },
   "outputs": [],
   "source": [
    "spring.datasource.url=jdbc:mysql://localhost:3306/mi_base_de_datos\n",
    "spring.datasource.username=root\n",
    "spring.datasource.password=contraseña\n",
    "spring.jpa.hibernate.ddl-auto=update"
   ]
  },
  {
   "cell_type": "markdown",
   "metadata": {},
   "source": [
    "<strong>Crear una Entidad y un Repositorio:</strong>"
   ]
  },
  {
   "cell_type": "code",
   "execution_count": null,
   "metadata": {
    "vscode": {
     "languageId": "java"
    }
   },
   "outputs": [],
   "source": [
    "import jakarta.persistence.*;\n",
    "\n",
    "@Entity\n",
    "public class Usuario {\n",
    "    @Id\n",
    "    @GeneratedValue(strategy = GenerationType.IDENTITY)\n",
    "    private Long id;\n",
    "    private String nombre;\n",
    "    private String email;\n",
    "\n",
    "    // Getters y Setters\n",
    "}\n",
    "\n",
    "import org.springframework.data.jpa.repository.JpaRepository;\n",
    "\n",
    "public interface UsuarioRepository extends JpaRepository<Usuario, Long> {\n",
    "}"
   ]
  },
  {
   "cell_type": "markdown",
   "metadata": {},
   "source": [
    "<strong>6. Conclusión</strong>\n",
    "\n",
    "Spring Boot facilita el desarrollo de aplicaciones Java con configuraciones mínimas. Con su enfoque basado en \"convención sobre configuración\", puedes desarrollar microservicios, APIs REST y aplicaciones web de manera rápida.\n",
    "\n",
    "📚 Recursos adicionales:\n",
    "\n",
    "<a href=\"https://spring.io/projects/spring-boot\">Documentación oficial de Spring Boot</a>\n",
    "\n",
    "<a href=\"https://spring.io/guides\">Guías de Spring Boot</a>"
   ]
  }
 ],
 "metadata": {
  "language_info": {
   "name": "python"
  }
 },
 "nbformat": 4,
 "nbformat_minor": 2
}
