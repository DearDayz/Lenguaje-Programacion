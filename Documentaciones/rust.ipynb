{
 "cells": [
  {
   "cell_type": "markdown",
   "metadata": {},
   "source": [
    "![Rust img](rust-social-wide-dark.svg)\n",
    "## 📌 Introducción a Rust 🦀  \n",
    "Rust es un lenguaje de programación de sistemas enfocado en seguridad y rendimiento. Es ampliamente utilizado en desarrollo de software de bajo nivel, como sistemas operativos, motores de juegos y aplicaciones web de alto rendimiento.  \n",
    "\n",
    "### 🔧 Instalación de Rust y Kernel para Jupyter  \n",
    "\n",
    "#### 1️. Instalar Rust  \n",
    "Para instalar Rust, usa el siguiente comando en la terminal o CMD: \n",
    "```sh\n",
    "curl --proto '=https' --tlsv1.2 -sSf https://sh.rustup.rs | sh\n",
    "```\n",
    "O en Windows, descarga el instalador desde: https://rustup.rs\n",
    "\n",
    "Después, verifica la instalación ejecutando:\n",
    "\n",
    "```sh\n",
    "rustc --version\n",
    "```\n",
    "#### 2. Instalar Jupyter y el Kernel de Rust\n",
    "Si no tienes Jupyter, instálalo con:\n",
    "```sh\n",
    "pip install jupyterlab\n",
    "```\n",
    "Luego, instala el kernel de Rust (evcxr):\n",
    "```sh\n",
    "cargo install evcxr_jupyter\n",
    "evcxr_jupyter --install\n",
    "```\n",
    "Despues podemos abrir Jupyter desde el navegador con\n",
    "```sh\n",
    "jupyter notebook\n",
    "```\n",
    "---\n",
    "## 📝 Fundamentos de Rust\n",
    "### 📌 1. Hola Mundo"
   ]
  },
  {
   "cell_type": "code",
   "execution_count": 17,
   "metadata": {
    "vscode": {
     "languageId": "rust"
    }
   },
   "outputs": [
    {
     "name": "stdout",
     "output_type": "stream",
     "text": [
      "¡Hola, mundo!\n"
     ]
    }
   ],
   "source": [
    "println!(\"¡Hola, mundo!\");"
   ]
  },
  {
   "cell_type": "markdown",
   "metadata": {},
   "source": [
    "### 📌 2. Variables y Mutabilidad"
   ]
  },
  {
   "cell_type": "code",
   "execution_count": 18,
   "metadata": {
    "vscode": {
     "languageId": "rust"
    }
   },
   "outputs": [
    {
     "name": "stdout",
     "output_type": "stream",
     "text": [
      "x: 5, y: 20\n"
     ]
    }
   ],
   "source": [
    "    let x = 5; // Variable inmutable\n",
    "    let mut y = 10; // Variable mutable\n",
    "    y = 20; // Permitido porque es mutable\n",
    "    println!(\"x: {}, y: {}\", x, y);"
   ]
  },
  {
   "cell_type": "markdown",
   "metadata": {},
   "source": [
    "### 📌 3. Tipos de Datos"
   ]
  },
  {
   "cell_type": "code",
   "execution_count": 19,
   "metadata": {
    "vscode": {
     "languageId": "rust"
    }
   },
   "outputs": [
    {
     "name": "stdout",
     "output_type": "stream",
     "text": [
      "Entero: 42, Flotante: 3.14, Booleano: true, Caracter: R\n"
     ]
    }
   ],
   "source": [
    "let entero: i32 = 42;\n",
    "let flotante: f64 = 3.14;\n",
    "let booleano: bool = true;\n",
    "let caracter: char = 'R';\n",
    "\n",
    "println!(\"Entero: {}, Flotante: {}, Booleano: {}, Caracter: {}\", entero, flotante, booleano, caracter);"
   ]
  },
  {
   "cell_type": "markdown",
   "metadata": {},
   "source": [
    "### 📌 4. Funciones"
   ]
  },
  {
   "cell_type": "code",
   "execution_count": 20,
   "metadata": {
    "vscode": {
     "languageId": "rust"
    }
   },
   "outputs": [
    {
     "name": "stdout",
     "output_type": "stream",
     "text": [
      "La suma es: 12\n"
     ]
    }
   ],
   "source": [
    "fn suma(a: i32, b: i32) -> i32 {\n",
    "    a + b\n",
    "}\n",
    "\n",
    "let resultado = suma(5, 7);\n",
    "println!(\"La suma es: {}\", resultado);\n"
   ]
  },
  {
   "cell_type": "markdown",
   "metadata": {},
   "source": [
    "### 📌 5. Control de Flujo"
   ]
  },
  {
   "cell_type": "code",
   "execution_count": 21,
   "metadata": {
    "vscode": {
     "languageId": "rust"
    }
   },
   "outputs": [
    {
     "name": "stdout",
     "output_type": "stream",
     "text": [
      "El número es mayor que 5\n"
     ]
    },
    {
     "data": {
      "text/plain": [
       "()"
      ]
     },
     "execution_count": 21,
     "metadata": {},
     "output_type": "execute_result"
    }
   ],
   "source": [
    "let numero = 10;\n",
    "\n",
    "if numero > 5 {\n",
    "    println!(\"El número es mayor que 5\");\n",
    "} else {\n",
    "    println!(\"El número es 5 o menor\");\n",
    "}"
   ]
  },
  {
   "cell_type": "markdown",
   "metadata": {},
   "source": [
    "### 📌 6. Bucles\n",
    "🔄 Bucle ```for```"
   ]
  },
  {
   "cell_type": "code",
   "execution_count": 22,
   "metadata": {
    "vscode": {
     "languageId": "rust"
    }
   },
   "outputs": [
    {
     "name": "stdout",
     "output_type": "stream",
     "text": [
      "Iteración: 1\n",
      "Iteración: 2\n",
      "Iteración: 3\n",
      "Iteración: 4\n",
      "Iteración: 5\n"
     ]
    },
    {
     "data": {
      "text/plain": [
       "()"
      ]
     },
     "execution_count": 22,
     "metadata": {},
     "output_type": "execute_result"
    }
   ],
   "source": [
    "for i in 1..=5 {\n",
    "    println!(\"Iteración: {}\", i);\n",
    "}"
   ]
  },
  {
   "cell_type": "markdown",
   "metadata": {},
   "source": [
    "🔁 Bucle ```while```"
   ]
  },
  {
   "cell_type": "code",
   "execution_count": 23,
   "metadata": {
    "vscode": {
     "languageId": "rust"
    }
   },
   "outputs": [
    {
     "name": "stdout",
     "output_type": "stream",
     "text": [
      "Contador: 0\n",
      "Contador: 1\n",
      "Contador: 2\n",
      "Contador: 3\n",
      "Contador: 4\n"
     ]
    },
    {
     "data": {
      "text/plain": [
       "()"
      ]
     },
     "execution_count": 23,
     "metadata": {},
     "output_type": "execute_result"
    }
   ],
   "source": [
    "let mut contador = 0;\n",
    "\n",
    "while contador < 5 {\n",
    "    println!(\"Contador: {}\", contador);\n",
    "    contador += 1;\n",
    "}"
   ]
  },
  {
   "cell_type": "markdown",
   "metadata": {},
   "source": [
    "### 📌 7. Estructuras y Enumeraciones\n",
    "🏗️ Estructuras"
   ]
  },
  {
   "cell_type": "code",
   "execution_count": 24,
   "metadata": {
    "vscode": {
     "languageId": "rust"
    }
   },
   "outputs": [
    {
     "name": "stdout",
     "output_type": "stream",
     "text": [
      "Nombre: Alice, Edad: 25\n"
     ]
    }
   ],
   "source": [
    "struct Persona {\n",
    "    nombre: String,\n",
    "    edad: u8,\n",
    "}\n",
    "\n",
    "fn main() {\n",
    "    let persona = Persona {\n",
    "        nombre: String::from(\"Alice\"),\n",
    "        edad: 25,\n",
    "    };\n",
    "\n",
    "    println!(\"Nombre: {}, Edad: {}\", persona.nombre, persona.edad);\n",
    "}\n",
    "main();"
   ]
  },
  {
   "cell_type": "markdown",
   "metadata": {},
   "source": [
    "### 📌 8. Enumeraciones"
   ]
  },
  {
   "cell_type": "code",
   "execution_count": 25,
   "metadata": {
    "vscode": {
     "languageId": "rust"
    }
   },
   "outputs": [
    {
     "name": "stdout",
     "output_type": "stream",
     "text": [
      "Es miércoles\n"
     ]
    }
   ],
   "source": [
    "enum Dia {\n",
    "    Lunes,\n",
    "    Martes,\n",
    "    Miercoles,\n",
    "    Jueves,\n",
    "    Viernes,\n",
    "}\n",
    "\n",
    "fn main() {\n",
    "    let hoy = Dia::Miercoles;\n",
    "    \n",
    "    match hoy {\n",
    "        Dia::Lunes => println!(\"Es lunes\"),\n",
    "        Dia::Miercoles => println!(\"Es miércoles\"),\n",
    "        _ => println!(\"Es otro día\"),\n",
    "    }\n",
    "}\n",
    "main();"
   ]
  },
  {
   "cell_type": "markdown",
   "metadata": {},
   "source": [
    "---\n",
    "### 🚀 Conclusión\n",
    "Rust es un lenguaje poderoso y seguro que combina alto rendimiento con una excelente gestión de memoria. ¡Sigue explorando y programando en Rust!\n",
    "<center>\n",
    "<img src=\"rust-flat-happy.png\" alt=\"rustup crab image\" ></center>"
   ]
  }
 ],
 "metadata": {
  "kernelspec": {
   "display_name": "Rust",
   "language": "rust",
   "name": "rust"
  },
  "language_info": {
   "codemirror_mode": "rust",
   "file_extension": ".rs",
   "mimetype": "text/rust",
   "name": "Rust",
   "pygment_lexer": "rust",
   "version": ""
  }
 },
 "nbformat": 4,
 "nbformat_minor": 2
}
