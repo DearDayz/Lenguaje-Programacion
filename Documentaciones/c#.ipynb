{
 "cells": [
  {
   "cell_type": "markdown",
   "metadata": {},
   "source": [
    "<h1>Guía para Aprender C# desde cero</h1>\n",
    "<h2>Introducción</h2>\n",
    "<p>C# (pronunciado \"C-Sharp\") es un lenguaje de programación moderno, orientado a objetos y desarrollado por Microsoft. Es parte del ecosistema .NET, lo que permite crear aplicaciones para escritorio, web, dispositivos móviles y mucho más. Su sintaxis está inspirada en lenguajes como C, C++ y Java, lo que lo hace fácil de aprender para quienes tienen experiencia previa con estos lenguajes. Esta guía está diseñada para principiantes sin experiencia previa en programación.</p>\n",
    "\n",
    "\n"
   ]
  },
  {
   "cell_type": "markdown",
   "metadata": {},
   "source": [
    "<h2>1. Configuración del Entorno de Desarrollo</h2>\n",
    "<h2>Herramientas necesarias</h2>\n",
    "<p>Visual Studio: El IDE (Entorno de Desarrollo Integrado) oficial para C#. Descárgalo desde Visual Studio.\n",
    "\n",
    "SDK de .NET: Normalmente viene incluido con Visual Studio.</p>\n",
    "\n"
   ]
  },
  {
   "cell_type": "markdown",
   "metadata": {},
   "source": [
    "<h2>Instalación</h2>\n",
    "<p>\n",
    "\n",
    "1. Descarga e instala Visual Studio.\n",
    "\n",
    "2. Durante la instalación, selecciona la carga de trabajo \"Desarrollo con .NET\".\n",
    "\n",
    "3. Una vez instalado, crea un nuevo proyecto con la plantilla \"Aplicación de consola\" para empezar con ejemplos simples.</p>"
   ]
  },
  {
   "cell_type": "markdown",
   "metadata": {},
   "source": [
    "<h2>1. Hola, Mundo</h2>\n",
    "<h3>El programa más básico en C# imprime \"Hola, mundo\":</h3>"
   ]
  },
  {
   "cell_type": "code",
   "execution_count": 23,
   "metadata": {
    "vscode": {
     "languageId": "csharp"
    }
   },
   "outputs": [
    {
     "name": "stdout",
     "output_type": "stream",
     "text": [
      "Hola, mundo!\n"
     ]
    }
   ],
   "source": [
    "\n",
    "Console.WriteLine(\"Hola, mundo!\");"
   ]
  },
  {
   "cell_type": "markdown",
   "metadata": {},
   "source": [
    "<h2>2. Tipos de datos</h2>\n",
    "<h3>C# es un lenguaje fuertemente tipado, lo que significa que cada variable debe tener un tipo definido.</h3>\n",
    "<h3>Tipos primitivos:</h3>\n",
    "\n",
    "int: Enteros (ejemplo, 42).\n",
    "\n",
    "float: Números decimales (ejemplo, 3.14f).\n",
    "\n",
    "double: Decimales de mayor precisión (ejemplo, 3.14159).\n",
    "\n",
    "char: Un solo carácter (ejemplo, 'A').\n",
    "\n",
    "string: Cadenas de texto (ejemplo, \"Hola\").\n",
    "\n",
    "bool: Valores lógicos (true o false)."
   ]
  },
  {
   "cell_type": "markdown",
   "metadata": {},
   "source": [
    "<h2>2.1. Variables y constantes</h2>"
   ]
  },
  {
   "cell_type": "code",
   "execution_count": 24,
   "metadata": {
    "vscode": {
     "languageId": "csharp"
    }
   },
   "outputs": [],
   "source": [
    "int edad = 25; // Variable\n",
    "const double PI = 3.14159; // Constante"
   ]
  },
  {
   "cell_type": "markdown",
   "metadata": {},
   "source": [
    "<h2>2.4. Operadores</h2>\n",
    "<p>\n",
    "Aritméticos: +, -, *, /, %\n",
    "\n",
    "Relacionales: ==, !=, <, >, <=, >=\n",
    "\n",
    "Lógicos: &&, ||, !</p>"
   ]
  },
  {
   "cell_type": "markdown",
   "metadata": {},
   "source": [
    "<h2>3. Estructuras de Control</h2>\n",
    "<h3>3.1. Condicionales</h3>"
   ]
  },
  {
   "cell_type": "code",
   "execution_count": 25,
   "metadata": {
    "vscode": {
     "languageId": "csharp"
    }
   },
   "outputs": [
    {
     "name": "stdout",
     "output_type": "stream",
     "text": [
      "Eres mayor de edad.\n"
     ]
    }
   ],
   "source": [
    "int edad = 19;\n",
    "if (edad >= 18)\n",
    "{\n",
    "    Console.WriteLine(\"Eres mayor de edad.\");\n",
    "}\n",
    "else\n",
    "{\n",
    "    Console.WriteLine(\"Eres menor de edad.\");\n",
    "}"
   ]
  },
  {
   "cell_type": "markdown",
   "metadata": {},
   "source": [
    "<h2>Ciclos y bucles</h2>\n"
   ]
  },
  {
   "cell_type": "markdown",
   "metadata": {},
   "source": [
    "<h3>Ciclo for:<h3>"
   ]
  },
  {
   "cell_type": "code",
   "execution_count": 26,
   "metadata": {
    "vscode": {
     "languageId": "csharp"
    }
   },
   "outputs": [
    {
     "name": "stdout",
     "output_type": "stream",
     "text": [
      "0\n",
      "1\n",
      "2\n",
      "3\n",
      "4\n"
     ]
    }
   ],
   "source": [
    "for (int i = 0; i < 5; i++)\n",
    "{\n",
    "    Console.WriteLine(i);\n",
    "}"
   ]
  },
  {
   "cell_type": "markdown",
   "metadata": {},
   "source": [
    "<h3>Bucle while:<h3>"
   ]
  },
  {
   "cell_type": "code",
   "execution_count": 27,
   "metadata": {
    "vscode": {
     "languageId": "csharp"
    }
   },
   "outputs": [
    {
     "name": "stdout",
     "output_type": "stream",
     "text": [
      "0\n",
      "1\n",
      "2\n",
      "3\n",
      "4\n"
     ]
    }
   ],
   "source": [
    "int contador = 0;\n",
    "while (contador < 5)\n",
    "{\n",
    "    Console.WriteLine(contador);\n",
    "    contador++;\n",
    "}"
   ]
  },
  {
   "cell_type": "markdown",
   "metadata": {},
   "source": [
    "<h3>Bucle foreach (ideal para listas):</h3>"
   ]
  },
  {
   "cell_type": "code",
   "execution_count": 28,
   "metadata": {
    "vscode": {
     "languageId": "csharp"
    }
   },
   "outputs": [
    {
     "name": "stdout",
     "output_type": "stream",
     "text": [
      "Ana\n",
      "Luis\n",
      "Carlos\n"
     ]
    }
   ],
   "source": [
    "string[] nombres = { \"Ana\", \"Luis\", \"Carlos\" };\n",
    "foreach (string nombre in nombres)\n",
    "{\n",
    "    Console.WriteLine(nombre);\n",
    "}"
   ]
  },
  {
   "cell_type": "markdown",
   "metadata": {},
   "source": [
    "<h2>4. Programación Orientada a Objetos (POO)</h2>\n",
    "<p>C# está diseñado con la POO en mente. Sus conceptos principales son clases, objetos, herencia, polimorfismo y encapsulamiento.</p>"
   ]
  },
  {
   "cell_type": "markdown",
   "metadata": {},
   "source": [
    "<h3>4.1. Clases y objetos</h3>"
   ]
  },
  {
   "cell_type": "code",
   "execution_count": 29,
   "metadata": {
    "vscode": {
     "languageId": "csharp"
    }
   },
   "outputs": [
    {
     "name": "stdout",
     "output_type": "stream",
     "text": [
      "Hola, soy Juan y tengo 30 años.\n"
     ]
    }
   ],
   "source": [
    "class Persona\n",
    "{\n",
    "    public string Nombre;\n",
    "    public int Edad;\n",
    "\n",
    "    public void Saludar()\n",
    "    {\n",
    "        Console.WriteLine($\"Hola, soy {Nombre} y tengo {Edad} años.\");\n",
    "    }\n",
    "}\n",
    "\n",
    "// Uso de la clase\n",
    "Persona persona = new Persona();\n",
    "persona.Nombre = \"Juan\";\n",
    "persona.Edad = 30;\n",
    "persona.Saludar();"
   ]
  },
  {
   "cell_type": "markdown",
   "metadata": {},
   "source": [
    "<h3>4.2. Herencia</h3>"
   ]
  },
  {
   "cell_type": "code",
   "execution_count": 30,
   "metadata": {
    "vscode": {
     "languageId": "csharp"
    }
   },
   "outputs": [
    {
     "name": "stdout",
     "output_type": "stream",
     "text": [
      "Estoy comiendo.\n",
      "Guau guau!\n"
     ]
    }
   ],
   "source": [
    "class Animal\n",
    "{\n",
    "    public void Comer()\n",
    "    {\n",
    "        Console.WriteLine(\"Estoy comiendo.\");\n",
    "    }\n",
    "}\n",
    "\n",
    "class Perro : Animal\n",
    "{\n",
    "    public void Ladrar()\n",
    "    {\n",
    "        Console.WriteLine(\"Guau guau!\");\n",
    "    }\n",
    "}\n",
    "\n",
    "Perro miPerro = new Perro();\n",
    "miPerro.Comer();\n",
    "miPerro.Ladrar();"
   ]
  },
  {
   "cell_type": "markdown",
   "metadata": {},
   "source": [
    "<h3>4.3. Propiedades</h3>\n"
   ]
  },
  {
   "cell_type": "code",
   "execution_count": 31,
   "metadata": {
    "vscode": {
     "languageId": "csharp"
    }
   },
   "outputs": [],
   "source": [
    "class Persona\n",
    "{\n",
    "    private int edad;\n",
    "\n",
    "    public int Edad\n",
    "    {\n",
    "        get { return edad; }\n",
    "        set { edad = value; }\n",
    "    }\n",
    "}"
   ]
  },
  {
   "cell_type": "markdown",
   "metadata": {},
   "source": [
    "<h2>5. Manejo de Errores</h2>\n",
    "<p>Usa bloques try-catch para manejar excepciones.</p>"
   ]
  },
  {
   "cell_type": "code",
   "execution_count": 32,
   "metadata": {
    "vscode": {
     "languageId": "csharp"
    }
   },
   "outputs": [
    {
     "name": "stdout",
     "output_type": "stream",
     "text": [
      "Error: Índice fuera de rango.\n",
      "Esto siempre se ejecuta.\n"
     ]
    },
    {
     "name": "stderr",
     "output_type": "stream",
     "text": [
      "\n",
      "(6,33): warning CS0168: The variable 'e' is declared but never used\n",
      "\n"
     ]
    }
   ],
   "source": [
    "try\n",
    "{\n",
    "    int[] numeros = { 1, 2, 3 };\n",
    "    Console.WriteLine(numeros[5]);\n",
    "}\n",
    "catch (IndexOutOfRangeException e)\n",
    "{\n",
    "    Console.WriteLine(\"Error: Índice fuera de rango.\");\n",
    "}\n",
    "finally\n",
    "{\n",
    "    Console.WriteLine(\"Esto siempre se ejecuta.\");\n",
    "}"
   ]
  },
  {
   "cell_type": "markdown",
   "metadata": {},
   "source": [
    "<p>Con esta guía, tienes las bases para comenzar tu aprendizaje en C#. Practica regularmente y avanza progresivamente hacia proyectos más complejos. ¡Buena suerte!</p>"
   ]
  }
 ],
 "metadata": {
  "language_info": {
   "name": "python"
  }
 },
 "nbformat": 4,
 "nbformat_minor": 2
}
