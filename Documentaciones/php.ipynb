{
 "cells": [
  {
   "cell_type": "markdown",
   "metadata": {},
   "source": [
    "<h1>Introducción a PHP</h1>\n",
    "<p>PHP (acrónimo de \"PHP: Hypertext Preprocessor\") es un lenguaje de programación del lado del servidor ampliamente utilizado para el desarrollo web. Es fácil de aprender, altamente flexible y está diseñado para generar contenido dinámico en aplicaciones web.</p>"
   ]
  },
  {
   "cell_type": "markdown",
   "metadata": {},
   "source": [
    "Características principales de PHP\n",
    "Multiplataforma: Compatible con sistemas como Windows, Linux y macOS.\n",
    "\n",
    "Integración sencilla: Funciona con múltiples bases de datos como MySQL, PostgreSQL y SQLite.\n",
    "\n",
    "Fácil de aprender: Su sintaxis es similar a lenguajes como C o Perl.\n",
    "\n",
    "Open Source: Totalmente gratuito y con una comunidad activa.\n",
    "\n",
    "Extensiones y bibliotecas: Amplia gama de funciones predefinidas y extensiones que simplifican tareas comunes."
   ]
  },
  {
   "cell_type": "markdown",
   "metadata": {},
   "source": [
    "<h1>Configuración inicial</h1>\n",
    "\n",
    "<h3>1.- Instalación de PHP</h3>\n",
    "\n",
    "En Windows:\n",
    "\n",
    "Descarga el paquete de PHP desde php.net.\n",
    "\n",
    "Usa herramientas como XAMPP o WampServer para configurar un entorno local."
   ]
  },
  {
   "cell_type": "markdown",
   "metadata": {},
   "source": [
    "En Linux:"
   ]
  },
  {
   "cell_type": "code",
   "execution_count": null,
   "metadata": {
    "vscode": {
     "languageId": "powershell"
    }
   },
   "outputs": [],
   "source": [
    "sudo apt update\n",
    "sudo apt install php"
   ]
  },
  {
   "cell_type": "markdown",
   "metadata": {},
   "source": [
    "En macOS:\n",
    "\n",
    "Si tienes Homebrew instalado:"
   ]
  },
  {
   "cell_type": "code",
   "execution_count": null,
   "metadata": {
    "vscode": {
     "languageId": "powershell"
    }
   },
   "outputs": [],
   "source": [
    "brew install php"
   ]
  },
  {
   "cell_type": "markdown",
   "metadata": {},
   "source": [
    "<h3>2.- Tu primer script en PHP</h3>\n",
    "\n",
    "Crea un archivo llamado index.php y escribe:"
   ]
  },
  {
   "cell_type": "code",
   "execution_count": null,
   "metadata": {
    "vscode": {
     "languageId": "php"
    }
   },
   "outputs": [],
   "source": [
    "echo \"¡Hola, mundo!\";"
   ]
  },
  {
   "cell_type": "markdown",
   "metadata": {},
   "source": [
    "Guarda el archivo en el directorio público de tu servidor web (por ejemplo, htdocs en XAMPP). Luego, accede desde tu navegador usando:"
   ]
  },
  {
   "cell_type": "code",
   "execution_count": null,
   "metadata": {
    "vscode": {
     "languageId": "powershell"
    }
   },
   "outputs": [],
   "source": [
    "http://localhost/index.php"
   ]
  },
  {
   "cell_type": "markdown",
   "metadata": {},
   "source": [
    "<h2>Conceptos básicos de PHP</h2>\n",
    "\n",
    "<h3>Variables y tipos de datos</h3>\n",
    "\n",
    "En PHP, las variables se declaran con el símbolo $.\n",
    "\n"
   ]
  },
  {
   "cell_type": "code",
   "execution_count": null,
   "metadata": {
    "vscode": {
     "languageId": "php"
    }
   },
   "outputs": [],
   "source": [
    "$nombre = \"Juan\"; // Cadena de texto\n",
    "$edad = 25;       // Entero\n",
    "$altura = 1.75;   // Flotante\n",
    "$es_valido = true; // Booleano\n",
    "\n",
    "echo \"Nombre: $nombre, Edad: $edad\";"
   ]
  },
  {
   "cell_type": "markdown",
   "metadata": {},
   "source": [
    "<h2>Operadores</h2>\n",
    "\n",
    "Aritméticos: +, -, *, /, %\n",
    "\n",
    "Comparación: ==, !=, >, <, >=, <=\n",
    "\n",
    "Lógicos: &&, ||, !\n",
    "\n",
    "Ejemplo:"
   ]
  },
  {
   "cell_type": "code",
   "execution_count": null,
   "metadata": {
    "vscode": {
     "languageId": "php"
    }
   },
   "outputs": [],
   "source": [
    "$a = 10;\n",
    "$b = 5;\n",
    "$suma = $a + $b;\n",
    "\n",
    "if ($suma > 10) {\n",
    "    echo \"La suma es mayor que 10\";\n",
    "} else {\n",
    "    echo \"La suma no es mayor que 10\";\n",
    "}"
   ]
  },
  {
   "cell_type": "markdown",
   "metadata": {},
   "source": [
    "<h2>Estructuras de control</h2>\n",
    "\n",
    "<h3>Condicionales:</h3>"
   ]
  },
  {
   "cell_type": "code",
   "execution_count": null,
   "metadata": {
    "vscode": {
     "languageId": "php"
    }
   },
   "outputs": [],
   "source": [
    "$edad = 18;\n",
    "if ($edad >= 18) {\n",
    "    echo \"Eres mayor de edad.\";\n",
    "} else {\n",
    "    echo \"Eres menor de edad.\";\n",
    "}"
   ]
  },
  {
   "cell_type": "markdown",
   "metadata": {},
   "source": [
    "<h3>Bucles:</h3>"
   ]
  },
  {
   "cell_type": "code",
   "execution_count": null,
   "metadata": {
    "vscode": {
     "languageId": "php"
    }
   },
   "outputs": [],
   "source": [
    "// Bucle for\n",
    "for ($i = 0; $i < 5; $i++) {\n",
    "    echo \"Iteración $i\";\n",
    "}\n",
    "\n",
    "// Bucle while\n",
    "$i = 0;\n",
    "while ($i < 5) {\n",
    "    echo \"Iteración $i\";\n",
    "    $i++;\n",
    "}"
   ]
  },
  {
   "cell_type": "markdown",
   "metadata": {},
   "source": [
    "<h3>Funciones</h3>\n",
    "\n",
    "Las funciones en PHP se definen usando function:"
   ]
  },
  {
   "cell_type": "code",
   "execution_count": null,
   "metadata": {
    "vscode": {
     "languageId": "php"
    }
   },
   "outputs": [],
   "source": [
    "function saludar($nombre) {\n",
    "    return \"Hola, $nombre\";\n",
    "}\n",
    "\n",
    "echo saludar(\"Maria\");"
   ]
  },
  {
   "cell_type": "markdown",
   "metadata": {},
   "source": [
    "<h3>Manejo de formularios HTML</h3>\n",
    "\n",
    "PHP es ideal para procesar formularios HTML:\n",
    "\n",
    "Ejemplo\n",
    "\n",
    "Archivo HTML (form.html):"
   ]
  },
  {
   "cell_type": "code",
   "execution_count": null,
   "metadata": {
    "vscode": {
     "languageId": "powershell"
    }
   },
   "outputs": [],
   "source": [
    "<form action=\"procesar.php\" method=\"POST\">\n",
    "  <label for=\"nombre\">Nombre:</label>\n",
    "  <input type=\"text\" id=\"nombre\" name=\"nombre\">\n",
    "  <button type=\"submit\">Enviar</button>\n",
    "</form> "
   ]
  },
  {
   "cell_type": "markdown",
   "metadata": {},
   "source": [
    "Archivo PHP (procesar.php):"
   ]
  },
  {
   "cell_type": "code",
   "execution_count": null,
   "metadata": {
    "vscode": {
     "languageId": "php"
    }
   },
   "outputs": [],
   "source": [
    "if ($_SERVER[\"REQUEST_METHOD\"] == \"POST\") {\n",
    "    $nombre = $_POST[\"nombre\"];\n",
    "    echo \"Hola, $nombre\";\n",
    "}"
   ]
  },
  {
   "cell_type": "markdown",
   "metadata": {},
   "source": [
    "<h2>Conexión a bases de datos</h2>\n",
    "\n",
    "Conectar PHP a una base de datos como MySQL es simple con PDO.\n",
    "\n",
    "Ejemplo"
   ]
  },
  {
   "cell_type": "code",
   "execution_count": null,
   "metadata": {
    "vscode": {
     "languageId": "php"
    }
   },
   "outputs": [],
   "source": [
    "try {\n",
    "    $pdo = new PDO(\"mysql:host=localhost;dbname=mi_base_de_datos\", \"usuario\", \"contraseña\");\n",
    "    $pdo->setAttribute(PDO::ATTR_ERRMODE, PDO::ERRMODE_EXCEPTION);\n",
    "\n",
    "    $consulta = $pdo->query(\"SELECT * FROM usuarios\");\n",
    "    while ($fila = $consulta->fetch()) {\n",
    "        echo $fila[\"nombre\"] . \"<br>\";\n",
    "    }\n",
    "} catch (PDOException $e) {\n",
    "    echo \"Error: \" . $e->getMessage();\n",
    "}"
   ]
  },
  {
   "cell_type": "markdown",
   "metadata": {},
   "source": [
    "<h2>Buenas prácticas</h2>\n",
    "\n",
    "Validar datos: Siempre valida la entrada del usuario para prevenir ataques como SQL Injection.\n",
    "\n",
    "Errores y excepciones: Usa try y catch para manejar errores.\n",
    "\n",
    "Comentarios: Documenta tu código con comentarios:"
   ]
  },
  {
   "cell_type": "code",
   "execution_count": null,
   "metadata": {
    "vscode": {
     "languageId": "powershell"
    }
   },
   "outputs": [],
   "source": [
    "// Esto es un comentario de una línea\n",
    "/* Esto es un comentario\n",
    "   de varias líneas */"
   ]
  },
  {
   "cell_type": "markdown",
   "metadata": {},
   "source": [
    "Con esta guía, ya tienes lo básico para comenzar a programar en PHP. ¡Diviértete desarrollando! 🚀"
   ]
  }
 ],
 "metadata": {
  "language_info": {
   "name": "python"
  }
 },
 "nbformat": 4,
 "nbformat_minor": 2
}
