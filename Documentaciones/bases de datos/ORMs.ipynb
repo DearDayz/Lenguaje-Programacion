{
 "cells": [
  {
   "cell_type": "markdown",
   "metadata": {},
   "source": [
    "# Explicación de ORMs (Mapeo Objeto-Relacional)\n",
    "\n",
    "## ¿Qué es un ORM?\n",
    "\n",
    "Un **ORM (Object-Relational Mapping)** es una técnica de programación que permite convertir datos entre sistemas de tipos incompatibles, como objetos en un lenguaje de programación orientado a objetos (POO) y una base de datos relacional (SQL). Actúa como una capa de abstracción que facilita la interacción con la base de datos sin necesidad de escribir consultas SQL manualmente.\n",
    "\n",
    "---\n",
    "\n",
    "## ¿Cómo funciona un ORM?\n",
    "\n",
    "1. **Modelado de Entidades**:\n",
    "   - Las tablas de la base de datos se representan como **clases** (modelos).\n",
    "   - Las columnas de las tablas se mapean a **atributos** de las clases.\n",
    "   - Cada fila de la tabla corresponde a una **instancia** del modelo.\n",
    "\n",
    "2. **Operaciones CRUD**:\n",
    "   - **Create**: Crear nuevos registros mediante instancias de objetos.\n",
    "   - **Read**: Consultar datos usando métodos del ORM.\n",
    "   - **Update**: Modificar objetos y sincronizar cambios con la base de datos.\n",
    "   - **Delete**: Eliminar registros mediante métodos específicos.\n",
    "\n",
    "3. **Traducción Automática**:\n",
    "   - El ORM convierte las operaciones con objetos en consultas SQL equivalentes.\n",
    "\n",
    "---\n",
    "\n",
    "## Componentes Clave de un ORM\n",
    "\n",
    "### 1. **Modelos**\n",
    "Clases que definen la estructura de las tablas. Ejemplo en SQLAlchemy (Python):\n"
   ]
  },
  {
   "cell_type": "code",
   "execution_count": null,
   "metadata": {},
   "outputs": [],
   "source": [
    "from sqlalchemy import Column, Integer, String\n",
    "from sqlalchemy.ext.declarative import declarative_base\n",
    "\n",
    "Base = declarative_base()\n",
    "\n",
    "class Usuario(Base):\n",
    "    __tablename__ = 'usuarios'\n",
    "    id = Column(Integer, primary_key=True)\n",
    "    nombre = Column(String(50))\n",
    "    email = Column(String(100))"
   ]
  },
  {
   "cell_type": "markdown",
   "metadata": {},
   "source": [
    "### 2. **Sesión (Session)**\n",
    "Mantiene una conexión con la base de datos y gestiona las transacciones:"
   ]
  },
  {
   "cell_type": "code",
   "execution_count": null,
   "metadata": {},
   "outputs": [],
   "source": [
    "from sqlalchemy import create_engine\n",
    "from sqlalchemy.orm import sessionmaker\n",
    "\n",
    "engine = create_engine('sqlite:///base_de_datos.db')\n",
    "Session = sessionmaker(bind=engine)\n",
    "session = Session()"
   ]
  },
  {
   "cell_type": "markdown",
   "metadata": {},
   "source": [
    "### 3. **Transacciones**\n",
    "Agrupan operaciones para garantizar la integridad de los datos:"
   ]
  },
  {
   "cell_type": "code",
   "execution_count": null,
   "metadata": {},
   "outputs": [],
   "source": [
    "try:\n",
    "    usuario = Usuario(nombre=\"Ana\", email=\"ana@example.com\")\n",
    "    session.add(usuario)\n",
    "    session.commit()\n",
    "except:\n",
    "    session.rollback()"
   ]
  },
  {
   "cell_type": "markdown",
   "metadata": {},
   "source": [
    "### 4. **Consultas (Queries)**\n",
    "Métodos para recuperar datos sin SQL directo:"
   ]
  },
  {
   "cell_type": "code",
   "execution_count": null,
   "metadata": {},
   "outputs": [],
   "source": [
    "# Todos los usuarios\n",
    "usuarios = session.query(Usuario).all()\n",
    "\n",
    "# Filtrado\n",
    "ana = session.query(Usuario).filter_by(nombre=\"Ana\").first()"
   ]
  },
  {
   "cell_type": "markdown",
   "metadata": {},
   "source": [
    "### 5. **Migraciones**\n",
    "Herramientas como **Alembic** (en SQLAlchemy) permiten evolucionar el esquema de la base de datos sin pérdida de datos.\n",
    "\n",
    "---\n",
    "\n",
    "## Ventajas de Usar un ORM\n",
    "\n",
    "- **Abstracción de la Base de Datos**: Permite cambiar el motor de BD (SQLite, PostgreSQL, etc.) con mínimos ajustes.\n",
    "- **Productividad**: Reduce código repetitivo y errores en consultas manuales.\n",
    "- **Seguridad**: Previene vulnerabilidades como inyección SQL mediante parámetros escapados automáticamente.\n",
    "- **Mantenibilidad**: El código es más limpio y orientado a objetos.\n",
    "---\n",
    "\n",
    "## Patrones Comunes en ORMs\n",
    "\n",
    "1. **Active Record**: Los modelos incluyen métodos para operaciones CRUD (ej: Django ORM).\n",
    "2. **Data Mapper**: Separa la lógica de negocio de la persistencia (ej: SQLAlchemy).\n",
    "\n",
    "---\n",
    "---\n",
    "\n",
    "## Ejemplo Práctico: SQLAlchemy en Acción\n",
    "\n",
    "### Instalación\n",
    "```sh\n",
    "pip install sqlalchemy\n",
    "```"
   ]
  },
  {
   "cell_type": "markdown",
   "metadata": {},
   "source": [
    "### Crear y Consultar Datos"
   ]
  },
  {
   "cell_type": "code",
   "execution_count": null,
   "metadata": {},
   "outputs": [],
   "source": [
    "# Crear usuario\n",
    "nuevo_usuario = Usuario(nombre=\"Carlos\", email=\"carlos@example.com\")\n",
    "session.add(nuevo_usuario)\n",
    "session.commit()\n",
    "\n",
    "# Consultar usuarios\n",
    "for usuario in session.query(Usuario).all():\n",
    "    print(usuario.nombre, usuario.email)"
   ]
  },
  {
   "cell_type": "markdown",
   "metadata": {},
   "source": [
    "\n",
    "## ORM vs SQL Directo\n",
    "\n",
    "| **Criterio**         | **ORM**                            | **SQL Directo**                   |\n",
    "|----------------------|------------------------------------|------------------------------------|\n",
    "| **Flexibilidad**     | Limitado por el ORM                | Totalmente flexible               |\n",
    "| **Velocidad**        | Puede ser más lento en casos complejos | Óptimo para consultas complejas |\n",
    "| **Curva de Aprendizaje** | Requiere aprender el ORM        | Requiere dominio de SQL           |\n",
    "\n",
    "---\n",
    "\n",
    "## ORMs Populares por Lenguaje\n",
    "\n",
    "- **Python**: SQLAlchemy, Django ORM, Peewee.\n",
    "- **Java**: Hibernate.\n",
    "- **JavaScript/TypeScript**: TypeORM, Sequelize.\n",
    "- **Ruby**: ActiveRecord (Ruby on Rails).\n",
    "\n",
    "---\n",
    "\n",
    "## Conclusión\n",
    "\n",
    "Los ORMs son herramientas poderosas para simplificar la interacción con bases de datos relacionales, especialmente en aplicaciones complejas. Aunque introducen una pequeña sobrecarga, sus beneficios en productividad y mantenibilidad los hacen indispensables en proyectos modernos."
   ]
  }
 ],
 "metadata": {
  "kernelspec": {
   "display_name": "Python 3",
   "language": "python",
   "name": "python3"
  },
  "language_info": {
   "name": "python",
   "version": "3.12.2"
  }
 },
 "nbformat": 4,
 "nbformat_minor": 2
}
