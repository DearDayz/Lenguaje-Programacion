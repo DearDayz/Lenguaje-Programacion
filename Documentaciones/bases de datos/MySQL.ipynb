{
 "cells": [
  {
   "cell_type": "markdown",
   "metadata": {
    "vscode": {
     "languageId": "julia"
    }
   },
   "source": [
    "<h1><strong>Documentación de MySQL con una Base de Datos Relacional</strong></h1>"
   ]
  },
  {
   "cell_type": "markdown",
   "metadata": {},
   "source": [
    "<strong>1. Introducción</strong>\n",
    "\n",
    "MySQL es un sistema de gestión de bases de datos relacional (RDBMS) de código abierto basado en SQL (Structured Query Language). Se utiliza para almacenar y administrar grandes volúmenes de datos de manera eficiente.\n",
    "\n",
    "Esta documentación describe una base de datos relacional en MySQL con una estructura de tablas interconectadas."
   ]
  },
  {
   "cell_type": "markdown",
   "metadata": {},
   "source": [
    "<strong>2. Modelo de Datos</strong>\n",
    "\n",
    "Para este ejemplo, se usará una base de datos de una tienda en línea con las siguientes entidades:\n",
    "\n",
    "<strong>Usuarios</strong> (almacena información de los clientes)\n",
    "\n",
    "<strong>Productos</strong> (almacena los productos disponibles para la venta)\n",
    "\n",
    "<strong>Pedidos</strong> (registra los pedidos realizados por los clientes)\n",
    "\n",
    "<strong>Detalles del Pedido</strong> (almacena los productos comprados en cada pedido)\n",
    "\n",
    "Diagrama Entidad-Relación (ERD)\n",
    "\n",
    "Este modelo sigue las relaciones:\n",
    "\n",
    "Un usuario puede hacer muchos pedidos (1:N).\n",
    "\n",
    "Un pedido puede contener varios productos (N:M), lo que requiere una tabla intermedia \"Detalles del Pedido\"."
   ]
  },
  {
   "cell_type": "markdown",
   "metadata": {},
   "source": [
    "<strong>3. Creación de la Base de Datos</strong>"
   ]
  },
  {
   "cell_type": "code",
   "execution_count": null,
   "metadata": {
    "vscode": {
     "languageId": "sql"
    }
   },
   "outputs": [],
   "source": [
    "CREATE DATABASE TiendaOnline;\n",
    "USE TiendaOnline;"
   ]
  },
  {
   "cell_type": "markdown",
   "metadata": {},
   "source": [
    "<strong>4. Definición de Tablas</strong>\n",
    "\n",
    "Tabla Usuarios"
   ]
  },
  {
   "cell_type": "code",
   "execution_count": null,
   "metadata": {
    "vscode": {
     "languageId": "sql"
    }
   },
   "outputs": [],
   "source": [
    "CREATE TABLE Usuarios (\n",
    "    id_usuario INT AUTO_INCREMENT PRIMARY KEY,\n",
    "    nombre VARCHAR(100) NOT NULL,\n",
    "    email VARCHAR(100) UNIQUE NOT NULL,\n",
    "    fecha_registro TIMESTAMP DEFAULT CURRENT_TIMESTAMP\n",
    ");"
   ]
  },
  {
   "cell_type": "markdown",
   "metadata": {},
   "source": [
    "Tabla Productos"
   ]
  },
  {
   "cell_type": "code",
   "execution_count": null,
   "metadata": {
    "vscode": {
     "languageId": "sql"
    }
   },
   "outputs": [],
   "source": [
    "CREATE TABLE Productos (\n",
    "    id_producto INT AUTO_INCREMENT PRIMARY KEY,\n",
    "    nombre VARCHAR(100) NOT NULL,\n",
    "    descripcion TEXT,\n",
    "    precio DECIMAL(10,2) NOT NULL,\n",
    "    stock INT NOT NULL\n",
    ");"
   ]
  },
  {
   "cell_type": "markdown",
   "metadata": {},
   "source": [
    "Tabla Pedidos"
   ]
  },
  {
   "cell_type": "code",
   "execution_count": null,
   "metadata": {
    "vscode": {
     "languageId": "sql"
    }
   },
   "outputs": [],
   "source": [
    "CREATE TABLE Pedidos (\n",
    "    id_pedido INT AUTO_INCREMENT PRIMARY KEY,\n",
    "    id_usuario INT,\n",
    "    fecha_pedido TIMESTAMP DEFAULT CURRENT_TIMESTAMP,\n",
    "    total DECIMAL(10,2) NOT NULL,\n",
    "    FOREIGN KEY (id_usuario) REFERENCES Usuarios(id_usuario) ON DELETE CASCADE\n",
    ");"
   ]
  },
  {
   "cell_type": "markdown",
   "metadata": {},
   "source": [
    "Tabla Detalles del Pedido"
   ]
  },
  {
   "cell_type": "code",
   "execution_count": null,
   "metadata": {
    "vscode": {
     "languageId": "sql"
    }
   },
   "outputs": [],
   "source": [
    "CREATE TABLE DetallesPedido (\n",
    "    id_detalle INT AUTO_INCREMENT PRIMARY KEY,\n",
    "    id_pedido INT,\n",
    "    id_producto INT,\n",
    "    cantidad INT NOT NULL,\n",
    "    subtotal DECIMAL(10,2) NOT NULL,\n",
    "    FOREIGN KEY (id_pedido) REFERENCES Pedidos(id_pedido) ON DELETE CASCADE,\n",
    "    FOREIGN KEY (id_producto) REFERENCES Productos(id_producto)\n",
    ");"
   ]
  },
  {
   "cell_type": "markdown",
   "metadata": {},
   "source": [
    "<strong>5. Manipulación de Datos (DML)</strong>\n",
    "\n",
    "Insertar Datos"
   ]
  },
  {
   "cell_type": "code",
   "execution_count": null,
   "metadata": {
    "vscode": {
     "languageId": "sql"
    }
   },
   "outputs": [],
   "source": [
    "INSERT INTO Usuarios (nombre, email) VALUES ('Peter Parker', 'pete@example.com');\n",
    "\n",
    "INSERT INTO Productos (nombre, descripcion, precio, stock)\n",
    "VALUES ('Laptop', 'Laptop de alto rendimiento', 1200.00, 10);"
   ]
  },
  {
   "cell_type": "markdown",
   "metadata": {},
   "source": [
    "Realizar un Pedido"
   ]
  },
  {
   "cell_type": "code",
   "execution_count": null,
   "metadata": {
    "vscode": {
     "languageId": "sql"
    }
   },
   "outputs": [],
   "source": [
    "INSERT INTO Pedidos (id_usuario, total) VALUES (1, 1200.00);\n",
    "\n",
    "INSERT INTO DetallesPedido (id_pedido, id_producto, cantidad, subtotal)\n",
    "VALUES (1, 1, 1, 1200.00);"
   ]
  },
  {
   "cell_type": "markdown",
   "metadata": {},
   "source": [
    "<strong>6. Consultas SQL Avanzadas</strong>\n",
    "\n",
    "Listar todos los pedidos con detalles del usuario y productos"
   ]
  },
  {
   "cell_type": "code",
   "execution_count": null,
   "metadata": {
    "vscode": {
     "languageId": "sql"
    }
   },
   "outputs": [],
   "source": [
    "SELECT P.id_pedido, U.nombre, Pr.nombre AS producto, D.cantidad, D.subtotal\n",
    "FROM Pedidos P\n",
    "JOIN Usuarios U ON P.id_usuario = U.id_usuario\n",
    "JOIN DetallesPedido D ON P.id_pedido = D.id_pedido\n",
    "JOIN Productos Pr ON D.id_producto = Pr.id_producto;"
   ]
  },
  {
   "cell_type": "markdown",
   "metadata": {},
   "source": [
    "Consultar el total de ventas por producto"
   ]
  },
  {
   "cell_type": "code",
   "execution_count": null,
   "metadata": {
    "vscode": {
     "languageId": "sql"
    }
   },
   "outputs": [],
   "source": [
    "SELECT Pr.nombre, SUM(D.cantidad) AS total_vendido\n",
    "FROM DetallesPedido D\n",
    "JOIN Productos Pr ON D.id_producto = Pr.id_producto\n",
    "GROUP BY Pr.nombre;"
   ]
  },
  {
   "cell_type": "markdown",
   "metadata": {},
   "source": [
    "<strong>7. Seguridad y Permisos</strong>\n",
    "\n",
    "Crear un usuario con permisos limitados"
   ]
  },
  {
   "cell_type": "code",
   "execution_count": null,
   "metadata": {
    "vscode": {
     "languageId": "sql"
    }
   },
   "outputs": [],
   "source": [
    "CREATE USER 'empleado'@'localhost' IDENTIFIED BY 'contraseña_segura';\n",
    "GRANT SELECT, INSERT ON TiendaOnline.* TO 'empleado'@'localhost';"
   ]
  },
  {
   "cell_type": "markdown",
   "metadata": {},
   "source": [
    "<strong>8. Copias de Seguridad y Recuperación</strong>\n",
    "\n",
    "Hacer un respaldo de la base de datos"
   ]
  },
  {
   "cell_type": "code",
   "execution_count": null,
   "metadata": {},
   "outputs": [],
   "source": [
    "mysqldump -u root -p TiendaOnline > respaldo.sql"
   ]
  },
  {
   "cell_type": "markdown",
   "metadata": {},
   "source": [
    "Restaurar un respaldo"
   ]
  },
  {
   "cell_type": "code",
   "execution_count": null,
   "metadata": {},
   "outputs": [],
   "source": [
    "mysql -u root -p TiendaOnline < respaldo.sql"
   ]
  },
  {
   "cell_type": "markdown",
   "metadata": {},
   "source": [
    "<strong>9. Optimización y Buenas Prácticas</strong>\n",
    "\n",
    "Usar índices en columnas clave para acelerar consultas:"
   ]
  },
  {
   "cell_type": "code",
   "execution_count": null,
   "metadata": {
    "vscode": {
     "languageId": "sql"
    }
   },
   "outputs": [],
   "source": [
    "CREATE INDEX idx_pedido_usuario ON Pedidos(id_usuario);"
   ]
  },
  {
   "cell_type": "markdown",
   "metadata": {},
   "source": [
    "Normalización para evitar redundancia de datos.\n",
    "\n",
    "Uso de transacciones para operaciones críticas:"
   ]
  },
  {
   "cell_type": "code",
   "execution_count": null,
   "metadata": {},
   "outputs": [],
   "source": [
    "START TRANSACTION;\n",
    "INSERT INTO Pedidos (id_usuario, total) VALUES (1, 1200.00);\n",
    "INSERT INTO DetallesPedido (id_pedido, id_producto, cantidad, subtotal) VALUES (LAST_INSERT_ID(), 1, 1, 1200.00);\n",
    "COMMIT;"
   ]
  },
  {
   "cell_type": "markdown",
   "metadata": {},
   "source": [
    "<strong>10. Conclusión</strong>\n",
    "\n",
    "Esta documentación cubre el diseño y la administración de una base de datos relacional en MySQL, incluyendo su estructura, consultas avanzadas, seguridad y buenas prácticas. Implementar estas estrategias garantiza una base de datos optimizada, segura y escalable."
   ]
  }
 ],
 "metadata": {
  "kernelspec": {
   "display_name": "Julia 1.10.3",
   "language": "julia",
   "name": "julia-1.10"
  },
  "language_info": {
   "file_extension": ".jl",
   "mimetype": "application/julia",
   "name": "julia",
   "version": "1.10.3"
  }
 },
 "nbformat": 4,
 "nbformat_minor": 2
}
