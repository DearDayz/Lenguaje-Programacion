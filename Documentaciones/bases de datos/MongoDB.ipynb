{
 "cells": [
  {
   "cell_type": "markdown",
   "metadata": {},
   "source": [
    "<h1><strong>Documentación de MongoDB con Base de Datos No Relacional</strong></h1>"
   ]
  },
  {
   "cell_type": "markdown",
   "metadata": {},
   "source": [
    "<strong>1. Introducción</strong>\n",
    "\n",
    "MongoDB es una base de datos NoSQL orientada a documentos que almacena datos en formato BSON (una extensión binaria de JSON). A diferencia de las bases de datos relacionales, MongoDB no usa tablas ni relaciones rígidas, sino que almacena información en documentos JSON flexibles dentro de colecciones.\n",
    "\n",
    "Esta documentación cubre la instalación, el modelo de datos no relacional, operaciones CRUD y otras funcionalidades clave de MongoDB."
   ]
  },
  {
   "cell_type": "markdown",
   "metadata": {},
   "source": [
    "<strong>2. Instalación y Configuración</strong>\n",
    "\n",
    "Instalar MongoDB en Windows, Linux y Mac\n",
    "\n",
    "Windows: Descarga desde <a href=\"https://www.mongodb.com/try/download/community\">MongoDB Community Server</a> e instala.\n",
    "\n",
    "Linux (Ubuntu/Debian):"
   ]
  },
  {
   "cell_type": "code",
   "execution_count": null,
   "metadata": {
    "vscode": {
     "languageId": "plaintext"
    }
   },
   "outputs": [],
   "source": [
    "sudo apt update\n",
    "sudo apt install -y mongodb"
   ]
  },
  {
   "cell_type": "markdown",
   "metadata": {},
   "source": [
    "MacOS:"
   ]
  },
  {
   "cell_type": "code",
   "execution_count": null,
   "metadata": {
    "vscode": {
     "languageId": "plaintext"
    }
   },
   "outputs": [],
   "source": [
    "brew tap mongodb/brew\n",
    "brew install mongodb-community"
   ]
  },
  {
   "cell_type": "markdown",
   "metadata": {},
   "source": [
    "Para iniciar MongoDB:"
   ]
  },
  {
   "cell_type": "code",
   "execution_count": null,
   "metadata": {
    "vscode": {
     "languageId": "plaintext"
    }
   },
   "outputs": [],
   "source": [
    "mongod --dbpath /ruta/al/directorio/datos"
   ]
  },
  {
   "cell_type": "markdown",
   "metadata": {},
   "source": [
    "Para acceder a la consola de MongoDB:"
   ]
  },
  {
   "cell_type": "code",
   "execution_count": null,
   "metadata": {
    "vscode": {
     "languageId": "plaintext"
    }
   },
   "outputs": [],
   "source": [
    "mongo"
   ]
  },
  {
   "cell_type": "markdown",
   "metadata": {},
   "source": [
    "<strong>3. Modelo de Datos No Relacional en MongoDB</strong>\n",
    "\n",
    "En MongoDB, los datos se almacenan en colecciones (similares a las tablas en bases de datos relacionales) y documentos JSON (similares a las filas en bases de datos tradicionales, pero con estructuras flexibles y anidadas).\n",
    "\n",
    "Ejemplo de documento en MongoDB:"
   ]
  },
  {
   "cell_type": "code",
   "execution_count": null,
   "metadata": {
    "vscode": {
     "languageId": "json"
    }
   },
   "outputs": [],
   "source": [
    "{\n",
    "  \"_id\": ObjectId(\"60d5ecf7c9a5f3f5a1a8b456\"),\n",
    "  \"nombre\": \"Juan Pérez\",\n",
    "  \"email\": \"juan@example.com\",\n",
    "  \"perfil\": {\n",
    "    \"edad\": 30,\n",
    "    \"direccion\": \"Calle 123, Ciudad X\",\n",
    "    \"telefono\": \"123-456-789\"\n",
    "  },\n",
    "  \"compras\": [\n",
    "    { \"producto\": \"Laptop\", \"precio\": 1200 },\n",
    "    { \"producto\": \"Mouse\", \"precio\": 25 }\n",
    "  ]\n",
    "}"
   ]
  },
  {
   "cell_type": "markdown",
   "metadata": {},
   "source": [
    "<strong>4. Operaciones CRUD en MongoDB</strong>\n",
    "\n",
    "Crear una Base de Datos y una Colección"
   ]
  },
  {
   "cell_type": "code",
   "execution_count": null,
   "metadata": {
    "vscode": {
     "languageId": "json"
    }
   },
   "outputs": [],
   "source": [
    "use TiendaOnline;\n",
    "\n",
    "db.createCollection(\"Usuarios\");"
   ]
  },
  {
   "cell_type": "markdown",
   "metadata": {},
   "source": [
    "Insertar Documentos"
   ]
  },
  {
   "cell_type": "code",
   "execution_count": null,
   "metadata": {
    "vscode": {
     "languageId": "json"
    }
   },
   "outputs": [],
   "source": [
    "db.Usuarios.insertOne({ nombre: \"Juan Pérez\", email: \"juan@example.com\", perfil: { edad: 30, direccion: \"Calle 123\" } });\n",
    "\n",
    "db.Usuarios.insertMany([\n",
    "  { nombre: \"Ana Gómez\", email: \"ana@example.com\", perfil: { edad: 25, direccion: \"Avenida 456\" } },\n",
    "  { nombre: \"Carlos López\", email: \"carlos@example.com\", perfil: { edad: 40, direccion: \"Carrera 789\" } }\n",
    "]);"
   ]
  },
  {
   "cell_type": "markdown",
   "metadata": {},
   "source": [
    "Leer Datos"
   ]
  },
  {
   "cell_type": "code",
   "execution_count": null,
   "metadata": {
    "vscode": {
     "languageId": "json"
    }
   },
   "outputs": [],
   "source": [
    "db.Usuarios.find(); // Muestra todos los documentos\n",
    "\n",
    "db.Usuarios.find({ \"perfil.edad\": { $gt: 30 } }); // Usuarios mayores de 30 años"
   ]
  },
  {
   "cell_type": "markdown",
   "metadata": {},
   "source": [
    "Actualizar Documentos"
   ]
  },
  {
   "cell_type": "code",
   "execution_count": null,
   "metadata": {
    "vscode": {
     "languageId": "json"
    }
   },
   "outputs": [],
   "source": [
    "db.Usuarios.updateOne(\n",
    "  { email: \"juan@example.com\" },\n",
    "  { $set: { \"perfil.edad\": 31 } }\n",
    ");"
   ]
  },
  {
   "cell_type": "markdown",
   "metadata": {},
   "source": [
    "Eliminar Documentos"
   ]
  },
  {
   "cell_type": "code",
   "execution_count": null,
   "metadata": {
    "vscode": {
     "languageId": "json"
    }
   },
   "outputs": [],
   "source": [
    "db.Usuarios.deleteOne({ email: \"juan@example.com\" });"
   ]
  },
  {
   "cell_type": "markdown",
   "metadata": {},
   "source": [
    "<strong>5. Consultas Avanzadas</strong>\n",
    "\n",
    "Filtrar por Campos Anidados"
   ]
  },
  {
   "cell_type": "code",
   "execution_count": null,
   "metadata": {
    "vscode": {
     "languageId": "json"
    }
   },
   "outputs": [],
   "source": [
    "db.Usuarios.find({ \"perfil.direccion\": \"Calle 123\" });"
   ]
  },
  {
   "cell_type": "markdown",
   "metadata": {},
   "source": [
    "Agrupaciones y Agregaciones"
   ]
  },
  {
   "cell_type": "code",
   "execution_count": null,
   "metadata": {
    "vscode": {
     "languageId": "json"
    }
   },
   "outputs": [],
   "source": [
    "db.Usuarios.aggregate([\n",
    "    { $group: { _id: \"$perfil.edad\", total: { $sum: 1 } } }\n",
    "  ]);"
   ]
  },
  {
   "cell_type": "markdown",
   "metadata": {},
   "source": [
    "<strong>6. Índices para Optimización</strong>"
   ]
  },
  {
   "cell_type": "code",
   "execution_count": null,
   "metadata": {
    "vscode": {
     "languageId": "json"
    }
   },
   "outputs": [],
   "source": [
    "db.Usuarios.createIndex({ email: 1 });"
   ]
  },
  {
   "cell_type": "markdown",
   "metadata": {},
   "source": [
    "<strong>7. Seguridad y Permisos</strong>\n",
    "\n",
    "Crear Usuario con Permisos Limitados"
   ]
  },
  {
   "cell_type": "code",
   "execution_count": null,
   "metadata": {
    "vscode": {
     "languageId": "json"
    }
   },
   "outputs": [],
   "source": [
    "db.createUser({\n",
    "    user: \"admin\",\n",
    "    pwd: \"password123\",\n",
    "    roles: [{ role: \"readWrite\", db: \"TiendaOnline\" }]\n",
    "  });"
   ]
  },
  {
   "cell_type": "markdown",
   "metadata": {},
   "source": [
    "<strong>8. Copia de Seguridad y Restauración</strong>\n",
    "\n",
    "Realizar un Backup"
   ]
  },
  {
   "cell_type": "code",
   "execution_count": null,
   "metadata": {
    "vscode": {
     "languageId": "json"
    }
   },
   "outputs": [],
   "source": [
    "mongodump --db TiendaOnline --out /ruta/respaldo/"
   ]
  },
  {
   "cell_type": "markdown",
   "metadata": {},
   "source": [
    "Restaurar un Backup"
   ]
  },
  {
   "cell_type": "code",
   "execution_count": null,
   "metadata": {
    "vscode": {
     "languageId": "json"
    }
   },
   "outputs": [],
   "source": [
    "mongorestore --db TiendaOnline /ruta/respaldo/TiendaOnline/"
   ]
  },
  {
   "cell_type": "markdown",
   "metadata": {},
   "source": [
    "<strong>9. Conclusión</strong>\n",
    "\n",
    "MongoDB es una base de datos NoSQL poderosa y flexible para almacenar datos en formato JSON sin la rigidez de un esquema relacional. Su estructura basada en documentos anidados permite manejar información de manera eficiente y escalable en aplicaciones modernas."
   ]
  }
 ],
 "metadata": {
  "language_info": {
   "name": "python"
  }
 },
 "nbformat": 4,
 "nbformat_minor": 2
}
