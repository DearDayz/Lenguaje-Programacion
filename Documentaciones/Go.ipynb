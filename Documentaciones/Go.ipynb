{
 "cells": [
  {
   "cell_type": "markdown",
   "metadata": {},
   "source": [
    "<center><h1>Introducción a Go (Golang)</h1></center>"
   ]
  },
  {
   "cell_type": "markdown",
   "metadata": {},
   "source": [
    "*Go, también conocido como Golang, es un lenguaje de programación desarrollado por Google en 2007. Fue diseñado para ser eficiente, simple y seguro, especialmente para sistemas distribuidos y aplicaciones de alto rendimiento. Go combina la velocidad de los lenguajes compilados como C++ con la facilidad de uso de lenguajes interpretados como Python.*"
   ]
  },
  {
   "cell_type": "markdown",
   "metadata": {},
   "source": [
    "Características principales de Go:\n",
    "\n",
    "<span style=\"background-color: gray;\">Sintaxis simple y legible:</span> Go tiene una sintaxis minimalista que facilita la lectura y escritura de código.\n",
    "\n",
    "<span style=\"background-color: gray;\">Concurrencia integrada:</span> Go tiene soporte nativo para concurrencia mediante goroutines y channels.\n",
    "\n",
    "<span style=\"background-color: gray;\">Recolección de basura:</span> Go gestiona automáticamente la memoria, lo que reduce el riesgo de fugas de memoria.\n",
    "\n",
    "<span style=\"background-color: gray;\">Compilación rápida:</span> Go compila rápidamente a código máquina, lo que lo hace ideal para aplicaciones de alto rendimiento."
   ]
  },
  {
   "cell_type": "markdown",
   "metadata": {},
   "source": [
    "<h2>Configuración del entorno</h2>"
   ]
  },
  {
   "cell_type": "markdown",
   "metadata": {},
   "source": [
    "Antes de empezar a programar en Go, necesitas instalar el compilador de Go en tu sistema. Puedes descargarlo desde golang.org.\n",
    "\n",
    "Una vez instalado, puedes verificar la instalación ejecutando el siguiente comando en tu terminal: **go version**\n",
    "\n",
    "\n",
    "*Esto debería mostrar la versión de Go instalada.*"
   ]
  },
  {
   "cell_type": "markdown",
   "metadata": {},
   "source": [
    "<center><h2><u>Sintaxis básica de Go</u></h2></center>"
   ]
  },
  {
   "cell_type": "markdown",
   "metadata": {},
   "source": [
    "## Hola Mundo en Go"
   ]
  },
  {
   "cell_type": "code",
   "execution_count": null,
   "metadata": {
    "vscode": {
     "languageId": "plaintext"
    }
   },
   "outputs": [],
   "source": [
    "package main\n",
    "\n",
    "import \"fmt\"\n",
    "\n",
    "func main() {\n",
    "    fmt.Println(\"¡Hola, Mundo!\")\n",
    "}"
   ]
  },
  {
   "cell_type": "markdown",
   "metadata": {},
   "source": [
    "**Explicación:**\n",
    "\n",
    "<span style=\"background-color: gray;\">package main:</span> Define el paquete principal del programa. Todo programa en Go debe tener un paquete main.\n",
    "\n",
    "<span style=\"background-color: gray;\">import \"fmt\":</span>  Importa el paquete fmt, que se utiliza para imprimir en la consola.\n",
    "\n",
    "<span style=\"background-color: gray;\">func main() { ... }:</span>  La función main es el punto de entrada del programa."
   ]
  },
  {
   "cell_type": "markdown",
   "metadata": {},
   "source": [
    "## Variables y tipos de datos"
   ]
  },
  {
   "cell_type": "markdown",
   "metadata": {},
   "source": [
    "En Go, las variables se declaran con la palabra clave var. Go es un lenguaje fuertemente tipado, por lo que debes especificar el tipo de dato."
   ]
  },
  {
   "cell_type": "code",
   "execution_count": null,
   "metadata": {
    "vscode": {
     "languageId": "plaintext"
    }
   },
   "outputs": [],
   "source": [
    "package main\n",
    "\n",
    "import \"fmt\"\n",
    "\n",
    "func main() {\n",
    "    var nombre string = \"Juan\"\n",
    "    var edad int = 25\n",
    "    var altura float64 = 1.75\n",
    "    var esEstudiante bool = true\n",
    "\n",
    "    fmt.Println(\"Nombre:\", nombre)\n",
    "    fmt.Println(\"Edad:\", edad)\n",
    "    fmt.Println(\"Altura:\", altura)\n",
    "    fmt.Println(\"Es estudiante:\", esEstudiante)\n",
    "}"
   ]
  },
  {
   "cell_type": "markdown",
   "metadata": {},
   "source": [
    "## Tipos de datos comunes en Go:\n",
    "\n",
    "<span style=\"background-color: gray;\">string:</span> Cadenas de texto.\n",
    "\n",
    "<span style=\"background-color: gray;\">int:</span> Números enteros.\n",
    "\n",
    "<span style=\"background-color: gray;\">float64:</span> Números de punto flotante de 64 bits.\n",
    "\n",
    "<span style=\"background-color: gray;\">bool:</span> Valores booleanos (true o false)."
   ]
  },
  {
   "cell_type": "markdown",
   "metadata": {},
   "source": [
    "## Constantes\n",
    "\n",
    "\n",
    "Las constantes son valores que no pueden cambiar durante la ejecución del programa. Se declaran con la palabra clave **const**."
   ]
  },
  {
   "cell_type": "code",
   "execution_count": null,
   "metadata": {
    "vscode": {
     "languageId": "plaintext"
    }
   },
   "outputs": [],
   "source": [
    "package main\n",
    "\n",
    "import \"fmt\"\n",
    "\n",
    "func main() {\n",
    "    const pi float64 = 3.1416\n",
    "    fmt.Println(\"El valor de Pi es:\", pi)\n",
    "}"
   ]
  },
  {
   "cell_type": "markdown",
   "metadata": {},
   "source": [
    "## Control de flujo\n",
    "\n",
    "Go tiene estructuras de control de flujo como **if**, **else**, **for**, y **switch**.\n",
    "\n",
    "*Ejemplo de if y else:*"
   ]
  },
  {
   "cell_type": "code",
   "execution_count": null,
   "metadata": {
    "vscode": {
     "languageId": "plaintext"
    }
   },
   "outputs": [],
   "source": [
    "package main\n",
    "\n",
    "import \"fmt\"\n",
    "\n",
    "func main() {\n",
    "    edad := 18\n",
    "\n",
    "    if edad >= 18 {\n",
    "        fmt.Println(\"Eres mayor de edad.\")\n",
    "    } else {\n",
    "        fmt.Println(\"Eres menor de edad.\")\n",
    "    }\n",
    "}"
   ]
  },
  {
   "cell_type": "markdown",
   "metadata": {},
   "source": [
    "*Ejemplo de for:*"
   ]
  },
  {
   "cell_type": "code",
   "execution_count": null,
   "metadata": {
    "vscode": {
     "languageId": "plaintext"
    }
   },
   "outputs": [],
   "source": [
    "package main\n",
    "\n",
    "import \"fmt\"\n",
    "\n",
    "func main() {\n",
    "    for i := 0; i < 5; i++ {\n",
    "        fmt.Println(\"Iteración:\", i)\n",
    "    }\n",
    "}"
   ]
  },
  {
   "cell_type": "markdown",
   "metadata": {},
   "source": [
    "*Ejemplo de switch:*"
   ]
  },
  {
   "cell_type": "code",
   "execution_count": null,
   "metadata": {
    "vscode": {
     "languageId": "plaintext"
    }
   },
   "outputs": [],
   "source": [
    "package main\n",
    "\n",
    "import \"fmt\"\n",
    "\n",
    "func main() {\n",
    "    dia := \"lunes\"\n",
    "\n",
    "    switch dia {\n",
    "    case \"lunes\":\n",
    "        fmt.Println(\"Es lunes, ¡ánimo!\")\n",
    "    case \"viernes\":\n",
    "        fmt.Println(\"¡Es viernes, fin de semana cerca!\")\n",
    "    default:\n",
    "        fmt.Println(\"Es otro día de la semana.\")\n",
    "    }\n",
    "}"
   ]
  },
  {
   "cell_type": "markdown",
   "metadata": {},
   "source": [
    "## Funciones\n",
    "\n",
    "Las funciones en Go se declaran con la palabra clave **func**. Pueden tener parámetros y valores de retorno."
   ]
  },
  {
   "cell_type": "code",
   "execution_count": null,
   "metadata": {
    "vscode": {
     "languageId": "plaintext"
    }
   },
   "outputs": [],
   "source": [
    "package main\n",
    "\n",
    "import \"fmt\"\n",
    "\n",
    "func suma(a int, b int) int {\n",
    "    return a + b\n",
    "}\n",
    "\n",
    "func main() {\n",
    "    resultado := suma(5, 3)\n",
    "    fmt.Println(\"La suma es:\", resultado)\n",
    "}"
   ]
  },
  {
   "cell_type": "markdown",
   "metadata": {},
   "source": [
    "## Arrays y Slices\n",
    "\n",
    "**Arrays:** Son colecciones de elementos del mismo tipo con un tamaño fijo."
   ]
  },
  {
   "cell_type": "code",
   "execution_count": null,
   "metadata": {
    "vscode": {
     "languageId": "plaintext"
    }
   },
   "outputs": [],
   "source": [
    "package main\n",
    "\n",
    "import \"fmt\"\n",
    "\n",
    "func main() {\n",
    "    var numeros [3]int\n",
    "    numeros[0] = 1\n",
    "    numeros[1] = 2\n",
    "    numeros[2] = 3\n",
    "\n",
    "    fmt.Println(\"Array:\", numeros)\n",
    "}"
   ]
  },
  {
   "cell_type": "markdown",
   "metadata": {},
   "source": [
    "**Slices:** Son similares a los arrays, pero tienen un tamaño dinámico."
   ]
  },
  {
   "cell_type": "code",
   "execution_count": null,
   "metadata": {
    "vscode": {
     "languageId": "plaintext"
    }
   },
   "outputs": [],
   "source": [
    "package main\n",
    "\n",
    "import \"fmt\"\n",
    "\n",
    "func main() {\n",
    "    numeros := []int{1, 2, 3, 4, 5}\n",
    "    fmt.Println(\"Slice:\", numeros)\n",
    "}"
   ]
  },
  {
   "cell_type": "markdown",
   "metadata": {},
   "source": [
    "## Maps\n",
    "\n",
    "Los maps son estructuras de datos que almacenan pares clave-valor."
   ]
  },
  {
   "cell_type": "code",
   "execution_count": null,
   "metadata": {
    "vscode": {
     "languageId": "plaintext"
    }
   },
   "outputs": [],
   "source": [
    "package main\n",
    "\n",
    "import \"fmt\"\n",
    "\n",
    "func main() {\n",
    "    capitales := map[string]string{\n",
    "        \"España\": \"Madrid\",\n",
    "        \"Francia\": \"París\",\n",
    "        \"Italia\": \"Roma\",\n",
    "    }\n",
    "\n",
    "    fmt.Println(\"La capital de España es:\", capitales[\"España\"])\n",
    "}"
   ]
  },
  {
   "cell_type": "markdown",
   "metadata": {},
   "source": [
    "## Structs\n",
    "\n",
    "Los structs son tipos de datos personalizados que agrupan campos relacionados."
   ]
  },
  {
   "cell_type": "code",
   "execution_count": null,
   "metadata": {
    "vscode": {
     "languageId": "plaintext"
    }
   },
   "outputs": [],
   "source": [
    "package main\n",
    "\n",
    "import \"fmt\"\n",
    "\n",
    "type Persona struct {\n",
    "    Nombre string\n",
    "    Edad   int\n",
    "}\n",
    "\n",
    "func main() {\n",
    "    persona := Persona{Nombre: \"Ana\", Edad: 30}\n",
    "    fmt.Println(\"Persona:\", persona)\n",
    "}"
   ]
  },
  {
   "cell_type": "markdown",
   "metadata": {},
   "source": [
    "## Concurrencia en Go: Goroutines\n",
    "\n",
    "*La concurrencia es la capacidad de un programa para manejar múltiples tareas al mismo tiempo. En Go, la concurrencia se maneja mediante goroutines, que son funciones o métodos que se ejecutan de manera concurrente. A diferencia de los hilos tradicionales en otros lenguajes, las goroutines son más ligeras y eficientes, lo que permite crear miles o incluso millones de ellas sin consumir demasiados recursos del sistema.*"
   ]
  },
  {
   "cell_type": "markdown",
   "metadata": {},
   "source": [
    "**¿Qué es una Goroutine?**\n",
    "Una goroutine es una función que se ejecuta de manera independiente y concurrente con otras funciones. Para iniciar una goroutine, simplemente usas la palabra clave go antes de la llamada a la función."
   ]
  },
  {
   "cell_type": "code",
   "execution_count": null,
   "metadata": {
    "vscode": {
     "languageId": "plaintext"
    }
   },
   "outputs": [],
   "source": [
    "package main\n",
    "\n",
    "import (\n",
    "    \"fmt\"\n",
    "    \"time\"\n",
    ")\n",
    "\n",
    "func imprimirMensaje(mensaje string) {\n",
    "    for i := 0; i < 5; i++ {\n",
    "        fmt.Println(mensaje)\n",
    "        time.Sleep(500 * time.Millisecond)\n",
    "    }\n",
    "}\n",
    "\n",
    "func main() {\n",
    "    // Iniciar una goroutine\n",
    "    go imprimirMensaje(\"Hola\")\n",
    "\n",
    "    // Continuar ejecutando el código principal\n",
    "    for i := 0; i < 5; i++ {\n",
    "        fmt.Println(\"Mundo\")\n",
    "        time.Sleep(500 * time.Millisecond)\n",
    "    }\n",
    "\n",
    "    // Esperar un momento para que la goroutine termine\n",
    "    time.Sleep(3 * time.Second)\n",
    "}"
   ]
  },
  {
   "cell_type": "markdown",
   "metadata": {},
   "source": [
    "**Explicación:**\n",
    "\n",
    "La función **imprimirMensaje** se ejecuta en una goroutine cuando usamos **go imprimirMensaje(\"Hola\")**.\n",
    "\n",
    "Mientras la goroutine está en ejecución, el programa principal continúa ejecutando el bucle for que imprime **\"Mundo\"**.\n",
    "\n",
    "Ambas tareas (la goroutine y el bucle principal) se ejecutan de manera concurrente.\n",
    "\n",
    "Usamos **time.Sleep** en el main para asegurarnos de que la goroutine tenga tiempo de terminar antes de que el programa principal finalice."
   ]
  },
  {
   "cell_type": "markdown",
   "metadata": {},
   "source": [
    "**¿Cómo funcionan las Goroutines?**\n",
    "\n",
    "<span style=\"background-color: gray;\">Ligeras:</span> Las goroutines son mucho más ligeras que los hilos tradicionales. Mientras que un hilo en lenguajes como Java o C++ puede consumir varios MB de memoria, una goroutine en Go solo consume unos pocos KB.\n",
    "\n",
    "<span style=\"background-color: gray;\">Gestionadas por el runtime de Go:</span> El runtime de Go gestiona las goroutines y las asigna a un número limitado de hilos del sistema operativo. Esto permite que miles de goroutines se ejecuten de manera eficiente.\n",
    "\n",
    "<span style=\"background-color: gray;\">Comunicación mediante Channels:</span> Las goroutines pueden comunicarse entre sí utilizando channels, que son estructuras de datos seguras para la concurrencia."
   ]
  },
  {
   "cell_type": "markdown",
   "metadata": {},
   "source": [
    "## Channels: Comunicación entre Goroutines\n",
    "\n",
    "Los channels son la forma en que las goroutines se comunican y sincronizan. Un channel es como un tubo por el cual puedes enviar y recibir valores entre goroutines."
   ]
  },
  {
   "cell_type": "code",
   "execution_count": null,
   "metadata": {
    "vscode": {
     "languageId": "plaintext"
    }
   },
   "outputs": [],
   "source": [
    "package main\n",
    "\n",
    "import (\n",
    "    \"fmt\"\n",
    "    \"time\"\n",
    ")\n",
    "\n",
    "func enviarMensaje(channel chan string, mensaje string) {\n",
    "    for i := 0; i < 5; i++ {\n",
    "        channel <- mensaje // Enviar mensaje al channel\n",
    "        time.Sleep(500 * time.Millisecond)\n",
    "    }\n",
    "    close(channel) // Cerrar el channel cuando se termina de enviar\n",
    "}\n",
    "\n",
    "func main() {\n",
    "    // Crear un channel de tipo string\n",
    "    channel := make(chan string)\n",
    "\n",
    "    // Iniciar una goroutine para enviar mensajes\n",
    "    go enviarMensaje(channel, \"Hola\")\n",
    "\n",
    "    // Recibir mensajes del channel\n",
    "    for mensaje := range channel {\n",
    "        fmt.Println(\"Mensaje recibido:\", mensaje)\n",
    "    }\n",
    "\n",
    "    fmt.Println(\"Fin del programa.\")\n",
    "}"
   ]
  },
  {
   "cell_type": "markdown",
   "metadata": {},
   "source": [
    "**Explicación:**\n",
    "\n",
    "Creamos un channel de tipo **string** usando **make(chan string).**\n",
    "\n",
    "La goroutine **enviarMensaje** envía mensajes al channel usando **channel <- mensaje.**\n",
    "\n",
    "En el **main**, recibimos los mensajes del channel usando **for mensaje := range channel.**\n",
    "\n",
    "Cuando la goroutine termina de enviar mensajes, cerramos el channel con **close(channel).**"
   ]
  },
  {
   "cell_type": "markdown",
   "metadata": {},
   "source": [
    "## Sincronización con WaitGroups\n",
    "\n",
    "En el ejemplo anterior, usamos time.Sleep para esperar a que la goroutine termine. Sin embargo, esto no es una buena práctica en programas reales. En su lugar, podemos usar WaitGroups para sincronizar goroutines."
   ]
  },
  {
   "cell_type": "code",
   "execution_count": null,
   "metadata": {
    "vscode": {
     "languageId": "plaintext"
    }
   },
   "outputs": [],
   "source": [
    "package main\n",
    "\n",
    "import (\n",
    "    \"fmt\"\n",
    "    \"sync\"\n",
    "    \"time\"\n",
    ")\n",
    "\n",
    "func imprimirMensaje(wg *sync.WaitGroup, mensaje string) {\n",
    "    defer wg.Done() // Marcar la goroutine como terminada\n",
    "    for i := 0; i < 5; i++ {\n",
    "        fmt.Println(mensaje)\n",
    "        time.Sleep(500 * time.Millisecond)\n",
    "    }\n",
    "}\n",
    "\n",
    "func main() {\n",
    "    var wg sync.WaitGroup\n",
    "\n",
    "    // Agregar 2 goroutines al WaitGroup\n",
    "    wg.Add(2)\n",
    "\n",
    "    // Iniciar dos goroutines\n",
    "    go imprimirMensaje(&wg, \"Hola\")\n",
    "    go imprimirMensaje(&wg, \"Mundo\")\n",
    "\n",
    "    // Esperar a que ambas goroutines terminen\n",
    "    wg.Wait()\n",
    "\n",
    "    fmt.Println(\"Fin del programa.\")\n",
    "}"
   ]
  },
  {
   "cell_type": "markdown",
   "metadata": {},
   "source": [
    "**Explicación:**\n",
    "\n",
    "Usamos un **sync.WaitGroup** para esperar a que las goroutines terminen.\n",
    "\n",
    "**wg.Add(2)** indica que estamos esperando a que 2 goroutines terminen.\n",
    "\n",
    "**wg.Done()** se llama dentro de cada goroutine para indicar que ha terminado.\n",
    "\n",
    "**wg.Wait()** bloquea el programa principal hasta que todas las goroutines hayan llamado a **Done()**."
   ]
  }
 ],
 "metadata": {
  "language_info": {
   "name": "python"
  }
 },
 "nbformat": 4,
 "nbformat_minor": 2
}
